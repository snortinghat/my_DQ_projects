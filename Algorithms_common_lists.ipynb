{
  "nbformat": 4,
  "nbformat_minor": 0,
  "metadata": {
    "colab": {
      "provenance": [],
      "collapsed_sections": [
        "RBb0wFndYBWg",
        "UH1CufvCYKko",
        "hDxRgM4ljMi7",
        "HpvEQPdBrqYl",
        "SVy86tgkXd4_"
      ],
      "toc_visible": true,
      "authorship_tag": "ABX9TyN6rfz2l2/Z06hXLOdOrPti",
      "include_colab_link": true
    },
    "kernelspec": {
      "name": "python3",
      "display_name": "Python 3"
    },
    "language_info": {
      "name": "python"
    }
  },
  "cells": [
    {
      "cell_type": "markdown",
      "metadata": {
        "id": "view-in-github",
        "colab_type": "text"
      },
      "source": [
        "<a href=\"https://colab.research.google.com/github/snortinghat/my_projects/blob/main/Algorithms_common_lists.ipynb\" target=\"_parent\"><img src=\"https://colab.research.google.com/assets/colab-badge.svg\" alt=\"Open In Colab\"/></a>"
      ]
    },
    {
      "cell_type": "code",
      "source": [
        "def insertion_sort(values: list) -> list:\n",
        "  n = len(values)\n",
        "  for current in range(1,n):\n",
        "    while current > 0 and values[current] < values[current-1]:\n",
        "      values[current-1], values[current] = values[current], values[current-1]\n",
        "      current -= 1\n",
        "  return values"
      ],
      "metadata": {
        "id": "DLR-eN4zSYD-"
      },
      "execution_count": 20,
      "outputs": []
    },
    {
      "cell_type": "code",
      "source": [
        "def bubble_sort(values: list) -> list:\n",
        "  n = len(values)\n",
        "  for i in range(1,n):\n",
        "    for current in range(n-i):\n",
        "      if values[current+1] < values[current]:\n",
        "        values[current], values[current+1] = values[current+1], values[current]\n",
        "  return values      "
      ],
      "metadata": {
        "id": "6nAGII2lTon1"
      },
      "execution_count": 26,
      "outputs": []
    },
    {
      "cell_type": "markdown",
      "source": [
        "# Selection sort\n",
        "- Creates a new empty list which will hold the sorted data\n",
        "- Iterates over the initial unsorted list and finds the minimum value\n",
        "- Takes this value and moves to the new previously created list\n",
        "\n",
        "Takes O(N<sup>2</sup>) time"
      ],
      "metadata": {
        "id": "8F_loyGmZ4-L"
      }
    },
    {
      "cell_type": "code",
      "source": [
        "def min_index(values: list) -> int:\n",
        "  '''\n",
        "  Takes in a list\n",
        "  Returns the index of the minimum element\n",
        "  '''\n",
        "\n",
        "  min_index = 0\n",
        "  for i in range(len(values)):\n",
        "    if values[i] < values[min_index]:\n",
        "      min_index = i \n",
        "  return min_index  \n",
        "\n",
        "\n",
        "def selection_sort(values: list) -> list:\n",
        "  '''\n",
        "  Takes in an unsorted list\n",
        "  Sorts it in ascending order and returns\n",
        "  '''\n",
        "\n",
        "  sorted_list = []\n",
        "  while len(values) > 0:\n",
        "    index_to_move = min_index(values)\n",
        "    sorted_list.append(values.pop(index_to_move))\n",
        "  return sorted_list"
      ],
      "metadata": {
        "id": "n59JlGCiZ7C-"
      },
      "execution_count": 9,
      "outputs": []
    },
    {
      "cell_type": "markdown",
      "source": [
        "# Quick sort\n",
        "* Takes one value from the unsorted list as a \"pivot\"\n",
        "* Iterates over all other values and compares each with the pivot\n",
        "* Moves all values less than the pivot into the new list \"less_than_pivot\"\n",
        "* Moves all values greater than the pivot into the new list \"more_than_pivot\"\n",
        "* For each of 2 newly created lists recursively calls itself until there are at least 2 elements in the list\n",
        "* Combines the sorted list \"less_than_pivot\" with pivot itself and the list \"more_than_pivot\" and returns the result back\n",
        "\n",
        "Takes O(N log(N)) times on average. Depends on how efficient the pivot value had been chosen"
      ],
      "metadata": {
        "id": "vuyMPH8cqP61"
      }
    },
    {
      "cell_type": "code",
      "source": [
        "def quick_sort(values: list) -> list:\n",
        "  '''\n",
        "  Sorts a list with quick sort algorithm called recursively\n",
        "  '''\n",
        "\n",
        "  # If there are 0 or 1 items in a list, it is already sorted\n",
        "  if len(values) <= 1:\n",
        "    return values\n",
        "\n",
        "  # We pick the first value as a starting point, called 'pivot'\n",
        "  # and create two empty lists\n",
        "  pivot = values[0]\n",
        "  less_than_pivot = []\n",
        "  more_than_pivot = []\n",
        "\n",
        "  # Then we iterate through the initial list except the pivot\n",
        "  # and compare each value with the pivot. If the value is less or equal, \n",
        "  # we add it to 'less_than_pivot', if the value is more, we add it to\n",
        "  # 'more_than_pivot' list\n",
        "  for i in values[1:]:\n",
        "    if i <= pivot:\n",
        "      less_than_pivot.append(i)\n",
        "    else:\n",
        "      more_than_pivot.append(i)\n",
        "\n",
        "  # Then we call quick_sort function on each of our two lists. We go deeper\n",
        "  # until we'll face the case when there is a pivot value, one empty list and\n",
        "  # one list with one value more or less then pivot.\n",
        "  # So when we merge all together we'll get a sorted list and return it to the \n",
        "  # higher layer. Finally, we'll get a sorted list    \n",
        "  return quick_sort(less_than_pivot) + [pivot] + quick_sort(more_than_pivot)\n"
      ],
      "metadata": {
        "id": "SeF4D__mqVKS"
      },
      "execution_count": 10,
      "outputs": []
    },
    {
      "cell_type": "markdown",
      "source": [
        "# Merge sort\n",
        "* Finds the middle of the list and splits it into halves\n",
        "* Recursively calls itself for each half until there will be only one element in the list\n",
        "* Compares 2 halves elementwise and merges into one sorted list\n",
        "* Return the result\n",
        "\n",
        "Takes O(N log(N)) times"
      ],
      "metadata": {
        "id": "SVy86tgkXd4_"
      }
    },
    {
      "cell_type": "code",
      "source": [
        "def merge_sort(a_list):\n",
        "  '''\n",
        "  Sorts a list in ascending order.\n",
        "  Returns new list\n",
        "  Takes O(n log n) time\n",
        "  '''\n",
        "\n",
        "  if len(a_list) <= 1:\n",
        "    return a_list\n",
        "  else:\n",
        "    left_half, right_half = split(a_list)\n",
        "    left_sorted = merge_sort(left_half)\n",
        "    right_sorted = merge_sort(right_half)\n",
        "    \n",
        "  return merge(left_sorted, right_sorted)\n",
        "\n",
        "  \n",
        "def split(a_list):\n",
        "  '''\n",
        "  Splits the list into two halves\n",
        "  Returns two lists\n",
        "  Takes O(log n) time\n",
        "  '''\n",
        "\n",
        "  mid_point = len(a_list) // 2\n",
        "  left_half = a_list[:mid_point]\n",
        "  right_half = a_list[mid_point:]\n",
        "\n",
        "  return left_half, right_half\n",
        "\n",
        "\n",
        "def merge(left_sorted, right_sorted):\n",
        "  '''\n",
        "  Merges two sorted lists\n",
        "  Returns one sorted list in ascending order\n",
        "  Takes O(n) time\n",
        "  '''\n",
        "\n",
        "  i = 0\n",
        "  j = 0\n",
        "  merged_sorted_list = []\n",
        "\n",
        "  while i < len(left_sorted) and j < len(right_sorted):\n",
        "    if left_sorted[i] < right_sorted[j]:\n",
        "      merged_sorted_list.append(left_sorted[i])\n",
        "      i += 1\n",
        "    else:\n",
        "      merged_sorted_list.append(right_sorted[j])\n",
        "      j += 1\n",
        "\n",
        "  merged_sorted_list += left_sorted[i:]\n",
        "  merged_sorted_list += right_sorted[j:]\n",
        "  \n",
        "  return merged_sorted_list"
      ],
      "metadata": {
        "id": "m6PAocZuXfdU"
      },
      "execution_count": 11,
      "outputs": []
    },
    {
      "cell_type": "markdown",
      "source": [
        "# Sorting tests"
      ],
      "metadata": {
        "id": "w-U0_0Ie6pwl"
      }
    },
    {
      "cell_type": "code",
      "source": [
        "def is_sorted(a_list) -> bool:\n",
        "  '''\n",
        "  Takes in a list and returns, whether it is sorted or not\n",
        "  '''\n",
        "  \n",
        "  n = len(a_list)\n",
        "  if n <= 1:\n",
        "    return True\n",
        "  \n",
        "  return a_list[0] <= a_list[1] and is_sorted(a_list[1:])"
      ],
      "metadata": {
        "id": "sOGJx8ba50tf"
      },
      "execution_count": 12,
      "outputs": []
    },
    {
      "cell_type": "code",
      "source": [
        "sorting_algorithms = [insertion_sort, bubble_sort, selection_sort, quick_sort, merge_sort]\n",
        "\n",
        "for algorithm in sorting_algorithms:\n",
        "  test_list = [1,0,3,45,6,2,22,34,20,0,4]\n",
        "  sorted_list = algorithm(test_list)\n",
        "  print(algorithm.__name__, is_sorted(sorted_list))\n",
        "  print(sorted_list)"
      ],
      "metadata": {
        "colab": {
          "base_uri": "https://localhost:8080/"
        },
        "id": "WcJJTu8SrLPD",
        "outputId": "62984252-a7af-4293-f31f-572860e08397"
      },
      "execution_count": 27,
      "outputs": [
        {
          "output_type": "stream",
          "name": "stdout",
          "text": [
            "insertion_sort True\n",
            "[0, 0, 1, 2, 3, 4, 6, 20, 22, 34, 45]\n",
            "bubble_sort True\n",
            "[0, 0, 1, 2, 3, 4, 6, 20, 22, 34, 45]\n",
            "selection_sort True\n",
            "[0, 0, 1, 2, 3, 4, 6, 20, 22, 34, 45]\n",
            "quick_sort True\n",
            "[0, 0, 1, 2, 3, 4, 6, 20, 22, 34, 45]\n",
            "merge_sort True\n",
            "[0, 0, 1, 2, 3, 4, 6, 20, 22, 34, 45]\n"
          ]
        }
      ]
    },
    {
      "cell_type": "markdown",
      "source": [
        "# Linear search\n",
        "* Iterates over the list until the target is found\n",
        "* Returns an index of the target if found or None\n",
        "\n",
        "Takes O(N) time"
      ],
      "metadata": {
        "id": "RBb0wFndYBWg"
      }
    },
    {
      "cell_type": "code",
      "source": [
        "def linear_search(a_list, target) -> int:\n",
        "  '''\n",
        "  Takes a list and a target to search\n",
        "  Returns an index of target value or None\n",
        "  Takes O(n) time\n",
        "  '''\n",
        "\n",
        "  for i in range(len(a_list)):\n",
        "    if a_list[i] == target:\n",
        "      return i\n",
        "  return None "
      ],
      "metadata": {
        "id": "Ew9OWvjCWNY4"
      },
      "execution_count": 14,
      "outputs": []
    },
    {
      "cell_type": "markdown",
      "source": [
        "# Binary search\n",
        "* Sorts the list using quick search algorithm\n",
        "* Finds the middle of the list and compare it with the target value\n",
        "* If the target is less than the middle, continues splitting and comparing with the left half\n",
        "* When the target is equal to the middle, returns the index of the target\n",
        "* If reaches the list with the length 1 and the target is not found, returns None\n"
      ],
      "metadata": {
        "id": "UH1CufvCYKko"
      }
    },
    {
      "cell_type": "code",
      "source": [
        "def binary_search(a_list, target) -> int:\n",
        "  '''\n",
        "  Takes a list and a target to search\n",
        "  Returns an index of target value or None\n",
        "  Takes O(log n) time (without sorting)\n",
        "  '''\n",
        "\n",
        "  sorted_list = quick_sort(a_list)\n",
        "\n",
        "  first = 0\n",
        "  last = len(sorted_list) - 1\n",
        "  \n",
        "  while first <= last:\n",
        "    mid = (first + last) // 2\n",
        "    if sorted_list[mid] == target:\n",
        "      return mid\n",
        "    elif sorted_list[mid] > target:\n",
        "      last = mid - 1\n",
        "    else:\n",
        "      first = mid + 1\n",
        "  return None"
      ],
      "metadata": {
        "id": "3dJtdFRAjjUl"
      },
      "execution_count": 15,
      "outputs": []
    },
    {
      "cell_type": "markdown",
      "source": [
        "# Search tests"
      ],
      "metadata": {
        "id": "HpvEQPdBrqYl"
      }
    },
    {
      "cell_type": "code",
      "source": [
        "a_list = [3,4,5,6,7,8,10]\n",
        "values = [0,3,6,23]\n",
        "functions = [linear_search, binary_search]"
      ],
      "metadata": {
        "id": "JHkGyDN4zgGf"
      },
      "execution_count": 16,
      "outputs": []
    },
    {
      "cell_type": "code",
      "source": [
        "for func in functions:\n",
        "  print(func.__name__)\n",
        "  for target in values:\n",
        "    print('target', target, 'result', func(a_list, target))\n",
        "  print('\\n')"
      ],
      "metadata": {
        "colab": {
          "base_uri": "https://localhost:8080/"
        },
        "id": "js7JIl98lj4f",
        "outputId": "07182b0e-b2b7-4479-de58-42f113e9409c"
      },
      "execution_count": 17,
      "outputs": [
        {
          "output_type": "stream",
          "name": "stdout",
          "text": [
            "linear_search\n",
            "target 0 result None\n",
            "target 3 result 0\n",
            "target 6 result 3\n",
            "target 23 result None\n",
            "\n",
            "\n",
            "binary_search\n",
            "target 0 result None\n",
            "target 3 result 0\n",
            "target 6 result 3\n",
            "target 23 result None\n",
            "\n",
            "\n"
          ]
        }
      ]
    }
  ]
}