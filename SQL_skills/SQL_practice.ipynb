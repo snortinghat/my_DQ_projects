{
 "cells": [
  {
   "cell_type": "markdown",
   "metadata": {},
   "source": [
    "# SQL practice on chinook music service database\n",
    "\n",
    "We are going to practice SQL techniques learned in the Intermediate SQL Course.\n",
    "Here is our database schema\n",
    "![](https://s3.amazonaws.com/dq-content/191/chinook-schema.svg)"
   ]
  },
  {
   "cell_type": "markdown",
   "metadata": {},
   "source": [
    "Firstly we are going to connect to the database"
   ]
  },
  {
   "cell_type": "code",
   "execution_count": 1,
   "metadata": {
    "scrolled": true
   },
   "outputs": [],
   "source": [
    "%%capture\n",
    "%load_ext sql\n",
    "%sql sqlite:///chinook.db"
   ]
  },
  {
   "cell_type": "markdown",
   "metadata": {},
   "source": [
    "Then observe the result"
   ]
  },
  {
   "cell_type": "code",
   "execution_count": 2,
   "metadata": {
    "scrolled": true
   },
   "outputs": [
    {
     "name": "stdout",
     "output_type": "stream",
     "text": [
      " * sqlite:///chinook.db\n",
      "Done.\n"
     ]
    },
    {
     "data": {
      "text/html": [
       "<table>\n",
       "    <tr>\n",
       "        <th>name</th>\n",
       "        <th>type</th>\n",
       "    </tr>\n",
       "    <tr>\n",
       "        <td>album</td>\n",
       "        <td>table</td>\n",
       "    </tr>\n",
       "    <tr>\n",
       "        <td>artist</td>\n",
       "        <td>table</td>\n",
       "    </tr>\n",
       "    <tr>\n",
       "        <td>customer</td>\n",
       "        <td>table</td>\n",
       "    </tr>\n",
       "    <tr>\n",
       "        <td>employee</td>\n",
       "        <td>table</td>\n",
       "    </tr>\n",
       "    <tr>\n",
       "        <td>genre</td>\n",
       "        <td>table</td>\n",
       "    </tr>\n",
       "    <tr>\n",
       "        <td>invoice</td>\n",
       "        <td>table</td>\n",
       "    </tr>\n",
       "    <tr>\n",
       "        <td>invoice_line</td>\n",
       "        <td>table</td>\n",
       "    </tr>\n",
       "    <tr>\n",
       "        <td>media_type</td>\n",
       "        <td>table</td>\n",
       "    </tr>\n",
       "    <tr>\n",
       "        <td>playlist</td>\n",
       "        <td>table</td>\n",
       "    </tr>\n",
       "    <tr>\n",
       "        <td>playlist_track</td>\n",
       "        <td>table</td>\n",
       "    </tr>\n",
       "    <tr>\n",
       "        <td>track</td>\n",
       "        <td>table</td>\n",
       "    </tr>\n",
       "    <tr>\n",
       "        <td>invoice_tracks</td>\n",
       "        <td>view</td>\n",
       "    </tr>\n",
       "    <tr>\n",
       "        <td>usa_sales</td>\n",
       "        <td>view</td>\n",
       "    </tr>\n",
       "    <tr>\n",
       "        <td>countries_with_others</td>\n",
       "        <td>view</td>\n",
       "    </tr>\n",
       "    <tr>\n",
       "        <td>with_others_unsorted</td>\n",
       "        <td>view</td>\n",
       "    </tr>\n",
       "    <tr>\n",
       "        <td>invoice_album</td>\n",
       "        <td>view</td>\n",
       "    </tr>\n",
       "    <tr>\n",
       "        <td>invoice_category</td>\n",
       "        <td>view</td>\n",
       "    </tr>\n",
       "</table>"
      ],
      "text/plain": [
       "[('album', 'table'),\n",
       " ('artist', 'table'),\n",
       " ('customer', 'table'),\n",
       " ('employee', 'table'),\n",
       " ('genre', 'table'),\n",
       " ('invoice', 'table'),\n",
       " ('invoice_line', 'table'),\n",
       " ('media_type', 'table'),\n",
       " ('playlist', 'table'),\n",
       " ('playlist_track', 'table'),\n",
       " ('track', 'table'),\n",
       " ('invoice_tracks', 'view'),\n",
       " ('usa_sales', 'view'),\n",
       " ('countries_with_others', 'view'),\n",
       " ('with_others_unsorted', 'view'),\n",
       " ('invoice_album', 'view'),\n",
       " ('invoice_category', 'view')]"
      ]
     },
     "execution_count": 2,
     "metadata": {},
     "output_type": "execute_result"
    }
   ],
   "source": [
    "%%sql\n",
    "\n",
    "SELECT\n",
    "    name,\n",
    "    type\n",
    "FROM sqlite_master\n",
    "WHERE type IN (\"table\",\"view\");"
   ]
  },
  {
   "cell_type": "markdown",
   "metadata": {},
   "source": [
    "# 1. The most sold genres in the USA\n",
    "\n",
    "The case is that Chinook company is going to sign a deal with a new record label which specializes in artists from the USA. \n",
    "This label have 4 albums, each in different genre and we are offered to choose the first three to be added to the store first.\n",
    "The genres are:\n",
    "1. Hip-Hop\n",
    "2. Punk\n",
    "3. Pop\n",
    "4. Blues\n",
    "\n",
    "We are going to write a query which returns information about the most popular genres sold in the USA.\n",
    "For this purpose we need to combine different tables:\n",
    "1. Customers\n",
    "2. Invoice\n",
    "3. Invoice_line\n",
    "4. Track\n",
    "5. Genre\n",
    "\n",
    "As we want to see sales where there are no null values in any field, we are going to use INNER JOIN in every conection.\n",
    "\n",
    "First, we compute the sum of all sales in the USA to bear it in mind for further cross checking"
   ]
  },
  {
   "cell_type": "code",
   "execution_count": 3,
   "metadata": {
    "scrolled": true
   },
   "outputs": [
    {
     "name": "stdout",
     "output_type": "stream",
     "text": [
      " * sqlite:///chinook.db\n",
      "Done.\n"
     ]
    },
    {
     "data": {
      "text/html": [
       "<table>\n",
       "    <tr>\n",
       "        <th>tot_sum</th>\n",
       "    </tr>\n",
       "    <tr>\n",
       "        <td>1040.4900000000005</td>\n",
       "    </tr>\n",
       "</table>"
      ],
      "text/plain": [
       "[(1040.4900000000005,)]"
      ]
     },
     "execution_count": 3,
     "metadata": {},
     "output_type": "execute_result"
    }
   ],
   "source": [
    "%%sql\n",
    "SELECT \n",
    "    SUM(i.total) AS tot_sum\n",
    "FROM invoice AS i\n",
    "INNER JOIN customer AS c ON i.customer_id = c.customer_id\n",
    "WHERE c.country = 'USA'"
   ]
  },
  {
   "cell_type": "markdown",
   "metadata": {},
   "source": [
    "Then we are going to create a middle-table (view) which shows us sales in the USA. In case we will decide further to restart our kernel we should first check if the view is already exists and if so - delete it to avoid an error"
   ]
  },
  {
   "cell_type": "code",
   "execution_count": 4,
   "metadata": {},
   "outputs": [
    {
     "name": "stdout",
     "output_type": "stream",
     "text": [
      " * sqlite:///chinook.db\n",
      "(sqlite3.OperationalError) disk I/O error\n",
      "[SQL: DROP VIEW IF EXISTS usa_sales;]\n",
      "(Background on this error at: https://sqlalche.me/e/14/e3q8)\n"
     ]
    }
   ],
   "source": [
    "%%sql\n",
    "DROP VIEW IF EXISTS usa_sales;\n",
    "\n",
    "CREATE VIEW usa_sales AS\n",
    "SELECT\n",
    "    g.name AS genre_name,\n",
    "    CAST((SUM(il.unit_price)) AS int) AS total_sold\n",
    "FROM\n",
    "    customer AS c\n",
    "    INNER JOIN invoice AS i\n",
    "        ON i.customer_id = c.customer_id\n",
    "    INNER JOIN invoice_line AS il\n",
    "        ON i.invoice_id = il.invoice_id\n",
    "    INNER JOIN track AS t\n",
    "        ON il.track_id = t.track_id\n",
    "    INNER JOIN genre AS g\n",
    "        ON t.genre_id = g.genre_id\n",
    "WHERE country = 'USA'        \n",
    "GROUP BY genre_name\n",
    "ORDER BY total_sold DESC;\n",
    "\n",
    "SELECT * FROM usa_sales\n",
    "LIMIT 5"
   ]
  },
  {
   "cell_type": "markdown",
   "metadata": {},
   "source": [
    "All we have left to do is to calculare the percentage for each genre and present the results"
   ]
  },
  {
   "cell_type": "code",
   "execution_count": 5,
   "metadata": {
    "scrolled": true
   },
   "outputs": [
    {
     "name": "stdout",
     "output_type": "stream",
     "text": [
      " * sqlite:///chinook.db\n",
      "Done.\n"
     ]
    },
    {
     "data": {
      "text/html": [
       "<table>\n",
       "    <tr>\n",
       "        <th>genre_name</th>\n",
       "        <th>total_sold</th>\n",
       "        <th>%</th>\n",
       "    </tr>\n",
       "    <tr>\n",
       "        <td>Rock</td>\n",
       "        <td>555</td>\n",
       "        <td>54%</td>\n",
       "    </tr>\n",
       "    <tr>\n",
       "        <td>Alternative &amp; Punk</td>\n",
       "        <td>128</td>\n",
       "        <td>12%</td>\n",
       "    </tr>\n",
       "    <tr>\n",
       "        <td>Metal</td>\n",
       "        <td>122</td>\n",
       "        <td>11%</td>\n",
       "    </tr>\n",
       "    <tr>\n",
       "        <td>R&amp;B/Soul</td>\n",
       "        <td>52</td>\n",
       "        <td>5%</td>\n",
       "    </tr>\n",
       "    <tr>\n",
       "        <td>Blues</td>\n",
       "        <td>35</td>\n",
       "        <td>3%</td>\n",
       "    </tr>\n",
       "    <tr>\n",
       "        <td>Alternative</td>\n",
       "        <td>34</td>\n",
       "        <td>3%</td>\n",
       "    </tr>\n",
       "    <tr>\n",
       "        <td>Pop</td>\n",
       "        <td>21</td>\n",
       "        <td>2%</td>\n",
       "    </tr>\n",
       "    <tr>\n",
       "        <td>Latin</td>\n",
       "        <td>21</td>\n",
       "        <td>2%</td>\n",
       "    </tr>\n",
       "    <tr>\n",
       "        <td>Hip Hop/Rap</td>\n",
       "        <td>19</td>\n",
       "        <td>1%</td>\n",
       "    </tr>\n",
       "    <tr>\n",
       "        <td>Jazz</td>\n",
       "        <td>13</td>\n",
       "        <td>1%</td>\n",
       "    </tr>\n",
       "    <tr>\n",
       "        <td>Easy Listening</td>\n",
       "        <td>12</td>\n",
       "        <td>1%</td>\n",
       "    </tr>\n",
       "    <tr>\n",
       "        <td>Reggae</td>\n",
       "        <td>5</td>\n",
       "        <td>0%</td>\n",
       "    </tr>\n",
       "    <tr>\n",
       "        <td>Electronica/Dance</td>\n",
       "        <td>4</td>\n",
       "        <td>0%</td>\n",
       "    </tr>\n",
       "    <tr>\n",
       "        <td>Classical</td>\n",
       "        <td>3</td>\n",
       "        <td>0%</td>\n",
       "    </tr>\n",
       "    <tr>\n",
       "        <td>Heavy Metal</td>\n",
       "        <td>2</td>\n",
       "        <td>0%</td>\n",
       "    </tr>\n",
       "    <tr>\n",
       "        <td>Soundtrack</td>\n",
       "        <td>1</td>\n",
       "        <td>0%</td>\n",
       "    </tr>\n",
       "    <tr>\n",
       "        <td>TV Shows</td>\n",
       "        <td>0</td>\n",
       "        <td>0%</td>\n",
       "    </tr>\n",
       "</table>"
      ],
      "text/plain": [
       "[('Rock', 555, '54%'),\n",
       " ('Alternative & Punk', 128, '12%'),\n",
       " ('Metal', 122, '11%'),\n",
       " ('R&B/Soul', 52, '5%'),\n",
       " ('Blues', 35, '3%'),\n",
       " ('Alternative', 34, '3%'),\n",
       " ('Pop', 21, '2%'),\n",
       " ('Latin', 21, '2%'),\n",
       " ('Hip Hop/Rap', 19, '1%'),\n",
       " ('Jazz', 13, '1%'),\n",
       " ('Easy Listening', 12, '1%'),\n",
       " ('Reggae', 5, '0%'),\n",
       " ('Electronica/Dance', 4, '0%'),\n",
       " ('Classical', 3, '0%'),\n",
       " ('Heavy Metal', 2, '0%'),\n",
       " ('Soundtrack', 1, '0%'),\n",
       " ('TV Shows', 0, '0%')]"
      ]
     },
     "execution_count": 5,
     "metadata": {},
     "output_type": "execute_result"
    }
   ],
   "source": [
    "%%sql\n",
    "SELECT\n",
    "    genre_name,\n",
    "    total_sold,\n",
    "    CAST(total_sold * 100 / (SELECT SUM(total_sold) FROM usa_sales) AS int) || '%' '%'\n",
    "FROM usa_sales\n",
    "GROUP BY genre_name\n",
    "ORDER BY total_sold DESC"
   ]
  },
  {
   "cell_type": "markdown",
   "metadata": {},
   "source": [
    "As we can see we have rock-oriented clients in the USA. So we must choose Punk and Blues first. The difference between Pop and Hip-Hop is so tiny that doesnt show any obvious deсision"
   ]
  },
  {
   "cell_type": "markdown",
   "metadata": {},
   "source": [
    "# 2. Sales agents' performance\n",
    "Next we are going to analyze the perfomance of each sales manager. We will create a query to see the sum of sales for each of them"
   ]
  },
  {
   "cell_type": "code",
   "execution_count": 6,
   "metadata": {
    "scrolled": false
   },
   "outputs": [
    {
     "name": "stdout",
     "output_type": "stream",
     "text": [
      " * sqlite:///chinook.db\n",
      "Done.\n"
     ]
    },
    {
     "data": {
      "text/html": [
       "<table>\n",
       "    <tr>\n",
       "        <th>employee_name</th>\n",
       "        <th>total_sales</th>\n",
       "    </tr>\n",
       "    <tr>\n",
       "        <td>Jane Peacock</td>\n",
       "        <td>1731.5</td>\n",
       "    </tr>\n",
       "    <tr>\n",
       "        <td>Margaret Park</td>\n",
       "        <td>1584.0</td>\n",
       "    </tr>\n",
       "    <tr>\n",
       "        <td>Steve Johnson</td>\n",
       "        <td>1393.9</td>\n",
       "    </tr>\n",
       "</table>"
      ],
      "text/plain": [
       "[('Jane Peacock', 1731.5),\n",
       " ('Margaret Park', 1584.0),\n",
       " ('Steve Johnson', 1393.9)]"
      ]
     },
     "execution_count": 6,
     "metadata": {},
     "output_type": "execute_result"
    }
   ],
   "source": [
    "%%sql\n",
    "SELECT \n",
    "    e.first_name || \" \" || e.last_name AS employee_name,\n",
    "    ROUND((SUM(i.total)),1) AS total_sales\n",
    "    \n",
    "FROM employee AS e\n",
    "\n",
    "    INNER JOIN customer AS c\n",
    "    ON e.employee_id = c.support_rep_id\n",
    "    \n",
    "    INNER JOIN invoice AS i \n",
    "    ON c.customer_id = i.customer_id\n",
    "    \n",
    "GROUP BY 1"
   ]
  },
  {
   "cell_type": "markdown",
   "metadata": {},
   "source": [
    "There are obvious difference in the results. But we can't be sure that they all had the same working period. Let's add a hire_date column"
   ]
  },
  {
   "cell_type": "code",
   "execution_count": 7,
   "metadata": {
    "scrolled": true
   },
   "outputs": [
    {
     "name": "stdout",
     "output_type": "stream",
     "text": [
      " * sqlite:///chinook.db\n",
      "Done.\n"
     ]
    },
    {
     "data": {
      "text/html": [
       "<table>\n",
       "    <tr>\n",
       "        <th>employee_name</th>\n",
       "        <th>hire_date</th>\n",
       "        <th>total_sales</th>\n",
       "    </tr>\n",
       "    <tr>\n",
       "        <td>Jane Peacock</td>\n",
       "        <td>2017-04-01 00:00:00</td>\n",
       "        <td>1731.5</td>\n",
       "    </tr>\n",
       "    <tr>\n",
       "        <td>Margaret Park</td>\n",
       "        <td>2017-05-03 00:00:00</td>\n",
       "        <td>1584.0</td>\n",
       "    </tr>\n",
       "    <tr>\n",
       "        <td>Steve Johnson</td>\n",
       "        <td>2017-10-17 00:00:00</td>\n",
       "        <td>1393.9</td>\n",
       "    </tr>\n",
       "</table>"
      ],
      "text/plain": [
       "[('Jane Peacock', '2017-04-01 00:00:00', 1731.5),\n",
       " ('Margaret Park', '2017-05-03 00:00:00', 1584.0),\n",
       " ('Steve Johnson', '2017-10-17 00:00:00', 1393.9)]"
      ]
     },
     "execution_count": 7,
     "metadata": {},
     "output_type": "execute_result"
    }
   ],
   "source": [
    "%%sql\n",
    "SELECT \n",
    "    e.first_name || \" \" || e.last_name AS employee_name,\n",
    "    e.hire_date,\n",
    "    ROUND((SUM(i.total)),1) AS total_sales\n",
    "    \n",
    "FROM employee AS e\n",
    "\n",
    "    INNER JOIN customer AS c\n",
    "    ON e.employee_id = c.support_rep_id\n",
    "    \n",
    "    INNER JOIN invoice AS i \n",
    "    ON c.customer_id = i.customer_id\n",
    "GROUP BY 1\n",
    "ORDER BY 3 DESC"
   ]
  },
  {
   "cell_type": "markdown",
   "metadata": {},
   "source": [
    "We can see that the hire date is quite different for all 3 sales managers. It seems interesting to compute monthly average sales for each. \n",
    "Before doing this we want to check the date of the last invoice in our database so we can calculate the period of work for each manager"
   ]
  },
  {
   "cell_type": "code",
   "execution_count": 8,
   "metadata": {},
   "outputs": [
    {
     "name": "stdout",
     "output_type": "stream",
     "text": [
      " * sqlite:///chinook.db\n",
      "Done.\n"
     ]
    },
    {
     "data": {
      "text/html": [
       "<table>\n",
       "    <tr>\n",
       "        <th>employee_name</th>\n",
       "        <th>hire_date</th>\n",
       "        <th>invoice_date</th>\n",
       "        <th>total_sales</th>\n",
       "    </tr>\n",
       "    <tr>\n",
       "        <td>Jane Peacock</td>\n",
       "        <td>2017-04-01 00:00:00</td>\n",
       "        <td>2017-01-03 00:00:00</td>\n",
       "        <td>25.740000000000002</td>\n",
       "    </tr>\n",
       "    <tr>\n",
       "        <td>Jane Peacock</td>\n",
       "        <td>2017-04-01 00:00:00</td>\n",
       "        <td>2017-01-06 00:00:00</td>\n",
       "        <td>7.92</td>\n",
       "    </tr>\n",
       "    <tr>\n",
       "        <td>Jane Peacock</td>\n",
       "        <td>2017-04-01 00:00:00</td>\n",
       "        <td>2017-01-13 00:00:00</td>\n",
       "        <td>9.9</td>\n",
       "    </tr>\n",
       "    <tr>\n",
       "        <td>Jane Peacock</td>\n",
       "        <td>2017-04-01 00:00:00</td>\n",
       "        <td>2017-01-18 00:00:00</td>\n",
       "        <td>8.91</td>\n",
       "    </tr>\n",
       "    <tr>\n",
       "        <td>Jane Peacock</td>\n",
       "        <td>2017-04-01 00:00:00</td>\n",
       "        <td>2017-01-20 00:00:00</td>\n",
       "        <td>10.89</td>\n",
       "    </tr>\n",
       "    <tr>\n",
       "        <td>Jane Peacock</td>\n",
       "        <td>2017-04-01 00:00:00</td>\n",
       "        <td>2017-01-21 00:00:00</td>\n",
       "        <td>3.96</td>\n",
       "    </tr>\n",
       "    <tr>\n",
       "        <td>Jane Peacock</td>\n",
       "        <td>2017-04-01 00:00:00</td>\n",
       "        <td>2017-01-25 00:00:00</td>\n",
       "        <td>3.96</td>\n",
       "    </tr>\n",
       "    <tr>\n",
       "        <td>Jane Peacock</td>\n",
       "        <td>2017-04-01 00:00:00</td>\n",
       "        <td>2017-01-26 00:00:00</td>\n",
       "        <td>8.91</td>\n",
       "    </tr>\n",
       "    <tr>\n",
       "        <td>Jane Peacock</td>\n",
       "        <td>2017-04-01 00:00:00</td>\n",
       "        <td>2017-02-02 00:00:00</td>\n",
       "        <td>4.95</td>\n",
       "    </tr>\n",
       "    <tr>\n",
       "        <td>Jane Peacock</td>\n",
       "        <td>2017-04-01 00:00:00</td>\n",
       "        <td>2017-02-06 00:00:00</td>\n",
       "        <td>9.9</td>\n",
       "    </tr>\n",
       "</table>"
      ],
      "text/plain": [
       "[('Jane Peacock', '2017-04-01 00:00:00', '2017-01-03 00:00:00', 25.740000000000002),\n",
       " ('Jane Peacock', '2017-04-01 00:00:00', '2017-01-06 00:00:00', 7.92),\n",
       " ('Jane Peacock', '2017-04-01 00:00:00', '2017-01-13 00:00:00', 9.9),\n",
       " ('Jane Peacock', '2017-04-01 00:00:00', '2017-01-18 00:00:00', 8.91),\n",
       " ('Jane Peacock', '2017-04-01 00:00:00', '2017-01-20 00:00:00', 10.89),\n",
       " ('Jane Peacock', '2017-04-01 00:00:00', '2017-01-21 00:00:00', 3.96),\n",
       " ('Jane Peacock', '2017-04-01 00:00:00', '2017-01-25 00:00:00', 3.96),\n",
       " ('Jane Peacock', '2017-04-01 00:00:00', '2017-01-26 00:00:00', 8.91),\n",
       " ('Jane Peacock', '2017-04-01 00:00:00', '2017-02-02 00:00:00', 4.95),\n",
       " ('Jane Peacock', '2017-04-01 00:00:00', '2017-02-06 00:00:00', 9.9)]"
      ]
     },
     "execution_count": 8,
     "metadata": {},
     "output_type": "execute_result"
    }
   ],
   "source": [
    "%%sql\n",
    "SELECT \n",
    "    e.first_name || \" \" || e.last_name AS employee_name,\n",
    "    e.hire_date,\n",
    "    i.invoice_date,\n",
    "    SUM(i.total) AS total_sales\n",
    "    \n",
    "FROM employee AS e\n",
    "\n",
    "    INNER JOIN customer AS c\n",
    "    ON e.employee_id = c.support_rep_id\n",
    "    \n",
    "    INNER JOIN invoice AS i \n",
    "    ON c.customer_id = i.customer_id\n",
    "GROUP BY 1,3\n",
    "HAVING MAX(i.invoice_date)\n",
    "ORDER BY 1,3\n",
    "LIMIT 10"
   ]
  },
  {
   "cell_type": "markdown",
   "metadata": {},
   "source": [
    "We can see some surprizing data where invoice date is earlier than employee hire date. This could be happened when a customer who made a purchace was assigned to a sales-agent who is not working now but had the same employee_id as one of current agents. This is why all IDs must be unique! Even if an employee resigned.\n",
    "<br /><br />\n",
    "But nevertheless we can figure out the date of the last sale for each agent"
   ]
  },
  {
   "cell_type": "code",
   "execution_count": 9,
   "metadata": {},
   "outputs": [
    {
     "name": "stdout",
     "output_type": "stream",
     "text": [
      " * sqlite:///chinook.db\n",
      "Done.\n"
     ]
    },
    {
     "data": {
      "text/html": [
       "<table>\n",
       "    <tr>\n",
       "        <th>employee_name</th>\n",
       "        <th>last_invoice_date</th>\n",
       "        <th>total_sales</th>\n",
       "    </tr>\n",
       "    <tr>\n",
       "        <td>Jane Peacock</td>\n",
       "        <td>2020-12-30 00:00:00</td>\n",
       "        <td>1731.5100000000039</td>\n",
       "    </tr>\n",
       "    <tr>\n",
       "        <td>Margaret Park</td>\n",
       "        <td>2020-12-29 00:00:00</td>\n",
       "        <td>1584.0000000000034</td>\n",
       "    </tr>\n",
       "    <tr>\n",
       "        <td>Steve Johnson</td>\n",
       "        <td>2020-12-20 00:00:00</td>\n",
       "        <td>1393.920000000002</td>\n",
       "    </tr>\n",
       "</table>"
      ],
      "text/plain": [
       "[('Jane Peacock', '2020-12-30 00:00:00', 1731.5100000000039),\n",
       " ('Margaret Park', '2020-12-29 00:00:00', 1584.0000000000034),\n",
       " ('Steve Johnson', '2020-12-20 00:00:00', 1393.920000000002)]"
      ]
     },
     "execution_count": 9,
     "metadata": {},
     "output_type": "execute_result"
    }
   ],
   "source": [
    "%%sql\n",
    "SELECT \n",
    "    e.first_name || \" \" || e.last_name AS employee_name,\n",
    "    i.invoice_date AS last_invoice_date,\n",
    "    SUM(i.total) AS total_sales   \n",
    "FROM employee AS e\n",
    "\n",
    "    INNER JOIN customer AS c\n",
    "    ON e.employee_id = c.support_rep_id\n",
    "    \n",
    "    INNER JOIN invoice AS i \n",
    "    ON c.customer_id = i.customer_id\n",
    "\n",
    "GROUP BY 1\n",
    "HAVING MAX(i.invoice_date)\n",
    "ORDER BY 1,3 DESC"
   ]
  },
  {
   "cell_type": "markdown",
   "metadata": {},
   "source": [
    "As we can see for all our agents it is December 2020. Now we can compute sales per one month of work"
   ]
  },
  {
   "cell_type": "code",
   "execution_count": 10,
   "metadata": {
    "scrolled": true
   },
   "outputs": [
    {
     "name": "stdout",
     "output_type": "stream",
     "text": [
      " * sqlite:///chinook.db\n",
      "Done.\n"
     ]
    },
    {
     "data": {
      "text/html": [
       "<table>\n",
       "    <tr>\n",
       "        <th>employee_name</th>\n",
       "        <th>period_months</th>\n",
       "        <th>sales_per_month</th>\n",
       "    </tr>\n",
       "    <tr>\n",
       "        <td>Jane Peacock</td>\n",
       "        <td>45</td>\n",
       "        <td>38.44</td>\n",
       "    </tr>\n",
       "    <tr>\n",
       "        <td>Steve Johnson</td>\n",
       "        <td>38</td>\n",
       "        <td>36.21</td>\n",
       "    </tr>\n",
       "    <tr>\n",
       "        <td>Margaret Park</td>\n",
       "        <td>43</td>\n",
       "        <td>36.01</td>\n",
       "    </tr>\n",
       "</table>"
      ],
      "text/plain": [
       "[('Jane Peacock', 45, 38.44),\n",
       " ('Steve Johnson', 38, 36.21),\n",
       " ('Margaret Park', 43, 36.01)]"
      ]
     },
     "execution_count": 10,
     "metadata": {},
     "output_type": "execute_result"
    }
   ],
   "source": [
    "%%sql\n",
    "SELECT \n",
    "    e.first_name || \" \" || e.last_name AS employee_name,\n",
    "    CAST(((JULIANDAY('2020-12-31') - JULIANDAY(hire_date))/365*12) AS int) AS period_months,\n",
    "    ROUND((SUM(i.total) / ((JULIANDAY('2020-12-31') - JULIANDAY(hire_date))/365*12)), 2) AS sales_per_month\n",
    "        \n",
    "FROM employee AS e\n",
    "\n",
    "    INNER JOIN customer AS c\n",
    "    ON e.employee_id = c.support_rep_id\n",
    "    \n",
    "    INNER JOIN invoice AS i \n",
    "    ON c.customer_id = i.customer_id\n",
    "GROUP BY 1\n",
    "ORDER BY 3 DESC"
   ]
  },
  {
   "cell_type": "markdown",
   "metadata": {},
   "source": [
    "As we can see from the table above the performance of Jane Peacock is slightly better than others"
   ]
  },
  {
   "cell_type": "markdown",
   "metadata": {
    "collapsed": true
   },
   "source": [
    "# 3. Sales by countries"
   ]
  },
  {
   "cell_type": "markdown",
   "metadata": {},
   "source": [
    "Our next mission is to create a table, which shows sales information for each country:\n",
    "1. Total number of customers\n",
    "2. Total value of sales\n",
    "3. Average value of sales per customer\n",
    "4. Average order value\n",
    "\n",
    "Moreover we were tasked to group all counties with only one customer to 'Others' and sort the result by the total sales from highest to lowest with 'Others' group at the very bottom. Quite tricky a challenge!\n",
    "\n",
    "We will use the same technique as above and first create a view and then make a query from it"
   ]
  },
  {
   "cell_type": "code",
   "execution_count": 11,
   "metadata": {
    "scrolled": false
   },
   "outputs": [
    {
     "name": "stdout",
     "output_type": "stream",
     "text": [
      " * sqlite:///chinook.db\n",
      "Done.\n",
      "Done.\n",
      "Done.\n"
     ]
    },
    {
     "data": {
      "text/html": [
       "<table>\n",
       "    <tr>\n",
       "        <th>country</th>\n",
       "        <th>num_of_customers</th>\n",
       "        <th>total_sales</th>\n",
       "        <th>sales_per_customer</th>\n",
       "        <th>num_of_orders</th>\n",
       "        <th>avg_order_sum</th>\n",
       "        <th>country_group</th>\n",
       "    </tr>\n",
       "    <tr>\n",
       "        <td>Argentina</td>\n",
       "        <td>1</td>\n",
       "        <td>39.6</td>\n",
       "        <td>39.6</td>\n",
       "        <td>5</td>\n",
       "        <td>7.9</td>\n",
       "        <td>Others</td>\n",
       "    </tr>\n",
       "    <tr>\n",
       "        <td>Australia</td>\n",
       "        <td>1</td>\n",
       "        <td>81.2</td>\n",
       "        <td>81.2</td>\n",
       "        <td>10</td>\n",
       "        <td>8.1</td>\n",
       "        <td>Others</td>\n",
       "    </tr>\n",
       "    <tr>\n",
       "        <td>Austria</td>\n",
       "        <td>1</td>\n",
       "        <td>69.3</td>\n",
       "        <td>69.3</td>\n",
       "        <td>9</td>\n",
       "        <td>7.7</td>\n",
       "        <td>Others</td>\n",
       "    </tr>\n",
       "    <tr>\n",
       "        <td>Belgium</td>\n",
       "        <td>1</td>\n",
       "        <td>60.4</td>\n",
       "        <td>60.4</td>\n",
       "        <td>7</td>\n",
       "        <td>8.6</td>\n",
       "        <td>Others</td>\n",
       "    </tr>\n",
       "    <tr>\n",
       "        <td>Brazil</td>\n",
       "        <td>5</td>\n",
       "        <td>427.7</td>\n",
       "        <td>85.5</td>\n",
       "        <td>61</td>\n",
       "        <td>7.0</td>\n",
       "        <td>Brazil</td>\n",
       "    </tr>\n",
       "</table>"
      ],
      "text/plain": [
       "[('Argentina', 1, 39.6, 39.6, 5, 7.9, 'Others'),\n",
       " ('Australia', 1, 81.2, 81.2, 10, 8.1, 'Others'),\n",
       " ('Austria', 1, 69.3, 69.3, 9, 7.7, 'Others'),\n",
       " ('Belgium', 1, 60.4, 60.4, 7, 8.6, 'Others'),\n",
       " ('Brazil', 5, 427.7, 85.5, 61, 7.0, 'Brazil')]"
      ]
     },
     "execution_count": 11,
     "metadata": {},
     "output_type": "execute_result"
    }
   ],
   "source": [
    "%%sql\n",
    "DROP VIEW IF EXISTS countries_with_others;\n",
    "\n",
    "CREATE VIEW countries_with_others AS\n",
    "\n",
    "SELECT \n",
    "    c.country,\n",
    "    COUNT(DISTINCT c.customer_id) AS num_of_customers,\n",
    "    ROUND(SUM(i.total),1) AS total_sales,\n",
    "    ROUND(SUM(i.total) / COUNT(DISTINCT c.customer_id),1) AS sales_per_customer,\n",
    "    COUNT(DISTINCT i.invoice_id) AS num_of_orders,\n",
    "    ROUND(SUM(i.total) / COUNT(DISTINCT i.invoice_id),1) AS avg_order_sum,\n",
    "    CASE\n",
    "        WHEN COUNT(DISTINCT c.customer_id) < 2 THEN 'Others'\n",
    "        ELSE c.country\n",
    "        END AS country_group\n",
    "FROM \n",
    "    customer AS c\n",
    "    INNER JOIN invoice AS i\n",
    "        ON c.customer_id = i.customer_id\n",
    "GROUP BY 1;\n",
    "\n",
    "SELECT * FROM countries_with_others\n",
    "LIMIT 5"
   ]
  },
  {
   "cell_type": "markdown",
   "metadata": {},
   "source": [
    "Now we have all data we need to complete a task with an additional column which shows us a country name if there are 2 or more customers, and returns 'Others' if there are only one.\n",
    "\n",
    "We now need to regroup our results by new column 'Group' and then sort it the special way (for 'Others' to be at the bottom)\n",
    "\n",
    "For the first part we'll create another view - grouped as we wanted, but yet unsorted"
   ]
  },
  {
   "cell_type": "code",
   "execution_count": 12,
   "metadata": {},
   "outputs": [
    {
     "name": "stdout",
     "output_type": "stream",
     "text": [
      " * sqlite:///chinook.db\n",
      "Done.\n",
      "Done.\n",
      "Done.\n"
     ]
    },
    {
     "data": {
      "text/html": [
       "<table>\n",
       "    <tr>\n",
       "        <th>country</th>\n",
       "        <th>num_of_customers</th>\n",
       "        <th>total_sales</th>\n",
       "        <th>sales_per_customer</th>\n",
       "        <th>num_of_orders</th>\n",
       "        <th>avg_order_sum</th>\n",
       "    </tr>\n",
       "    <tr>\n",
       "        <td>Others</td>\n",
       "        <td>15</td>\n",
       "        <td>1094.8</td>\n",
       "        <td>73.0</td>\n",
       "        <td>147</td>\n",
       "        <td>7.4</td>\n",
       "    </tr>\n",
       "    <tr>\n",
       "        <td>USA</td>\n",
       "        <td>13</td>\n",
       "        <td>1040.5</td>\n",
       "        <td>80.0</td>\n",
       "        <td>131</td>\n",
       "        <td>7.9</td>\n",
       "    </tr>\n",
       "    <tr>\n",
       "        <td>Canada</td>\n",
       "        <td>8</td>\n",
       "        <td>535.6</td>\n",
       "        <td>67.0</td>\n",
       "        <td>76</td>\n",
       "        <td>7.0</td>\n",
       "    </tr>\n",
       "    <tr>\n",
       "        <td>France</td>\n",
       "        <td>5</td>\n",
       "        <td>389.1</td>\n",
       "        <td>77.8</td>\n",
       "        <td>50</td>\n",
       "        <td>7.8</td>\n",
       "    </tr>\n",
       "    <tr>\n",
       "        <td>Brazil</td>\n",
       "        <td>5</td>\n",
       "        <td>427.7</td>\n",
       "        <td>85.5</td>\n",
       "        <td>61</td>\n",
       "        <td>7.0</td>\n",
       "    </tr>\n",
       "    <tr>\n",
       "        <td>Germany</td>\n",
       "        <td>4</td>\n",
       "        <td>334.6</td>\n",
       "        <td>83.7</td>\n",
       "        <td>41</td>\n",
       "        <td>8.2</td>\n",
       "    </tr>\n",
       "    <tr>\n",
       "        <td>United Kingdom</td>\n",
       "        <td>3</td>\n",
       "        <td>245.5</td>\n",
       "        <td>81.8</td>\n",
       "        <td>28</td>\n",
       "        <td>8.8</td>\n",
       "    </tr>\n",
       "    <tr>\n",
       "        <td>Portugal</td>\n",
       "        <td>2</td>\n",
       "        <td>185.1</td>\n",
       "        <td>92.6</td>\n",
       "        <td>29</td>\n",
       "        <td>6.4</td>\n",
       "    </tr>\n",
       "    <tr>\n",
       "        <td>India</td>\n",
       "        <td>2</td>\n",
       "        <td>183.2</td>\n",
       "        <td>91.6</td>\n",
       "        <td>21</td>\n",
       "        <td>8.7</td>\n",
       "    </tr>\n",
       "    <tr>\n",
       "        <td>Czech Republic</td>\n",
       "        <td>2</td>\n",
       "        <td>273.2</td>\n",
       "        <td>136.6</td>\n",
       "        <td>30</td>\n",
       "        <td>9.1</td>\n",
       "    </tr>\n",
       "</table>"
      ],
      "text/plain": [
       "[('Others', 15, 1094.8, 73.0, 147, 7.4),\n",
       " ('USA', 13, 1040.5, 80.0, 131, 7.9),\n",
       " ('Canada', 8, 535.6, 67.0, 76, 7.0),\n",
       " ('France', 5, 389.1, 77.8, 50, 7.8),\n",
       " ('Brazil', 5, 427.7, 85.5, 61, 7.0),\n",
       " ('Germany', 4, 334.6, 83.7, 41, 8.2),\n",
       " ('United Kingdom', 3, 245.5, 81.8, 28, 8.8),\n",
       " ('Portugal', 2, 185.1, 92.6, 29, 6.4),\n",
       " ('India', 2, 183.2, 91.6, 21, 8.7),\n",
       " ('Czech Republic', 2, 273.2, 136.6, 30, 9.1)]"
      ]
     },
     "execution_count": 12,
     "metadata": {},
     "output_type": "execute_result"
    }
   ],
   "source": [
    "%%sql\n",
    "DROP VIEW IF EXISTS with_others_unsorted;\n",
    "\n",
    "CREATE VIEW with_others_unsorted AS\n",
    "\n",
    "SELECT \n",
    "    country_group AS country,    \n",
    "    SUM(num_of_customers) AS num_of_customers,\n",
    "    SUM(total_sales) AS total_sales,\n",
    "    ROUND(SUM(total_sales) / SUM(num_of_customers),1) AS sales_per_customer,\n",
    "    SUM(num_of_orders) AS num_of_orders,\n",
    "    ROUND((SUM(total_sales) / SUM(num_of_orders)),1) AS avg_order_sum\n",
    "FROM \n",
    "    countries_with_others   \n",
    "GROUP BY 1\n",
    "ORDER BY 2 DESC;\n",
    "\n",
    "SELECT * FROM with_others_unsorted"
   ]
  },
  {
   "cell_type": "markdown",
   "metadata": {},
   "source": [
    "The last step is to sort the result using the technique produced in the guide to this project"
   ]
  },
  {
   "cell_type": "code",
   "execution_count": 13,
   "metadata": {},
   "outputs": [
    {
     "name": "stdout",
     "output_type": "stream",
     "text": [
      " * sqlite:///chinook.db\n",
      "Done.\n"
     ]
    },
    {
     "data": {
      "text/html": [
       "<table>\n",
       "    <tr>\n",
       "        <th>country</th>\n",
       "        <th>num_of_customers</th>\n",
       "        <th>total_sales</th>\n",
       "        <th>sales_per_customer</th>\n",
       "        <th>avg_order_sum</th>\n",
       "    </tr>\n",
       "    <tr>\n",
       "        <td>USA</td>\n",
       "        <td>13</td>\n",
       "        <td>1040.5</td>\n",
       "        <td>80.0</td>\n",
       "        <td>7.9</td>\n",
       "    </tr>\n",
       "    <tr>\n",
       "        <td>Canada</td>\n",
       "        <td>8</td>\n",
       "        <td>535.6</td>\n",
       "        <td>67.0</td>\n",
       "        <td>7.0</td>\n",
       "    </tr>\n",
       "    <tr>\n",
       "        <td>France</td>\n",
       "        <td>5</td>\n",
       "        <td>389.1</td>\n",
       "        <td>77.8</td>\n",
       "        <td>7.8</td>\n",
       "    </tr>\n",
       "    <tr>\n",
       "        <td>Brazil</td>\n",
       "        <td>5</td>\n",
       "        <td>427.7</td>\n",
       "        <td>85.5</td>\n",
       "        <td>7.0</td>\n",
       "    </tr>\n",
       "    <tr>\n",
       "        <td>Germany</td>\n",
       "        <td>4</td>\n",
       "        <td>334.6</td>\n",
       "        <td>83.7</td>\n",
       "        <td>8.2</td>\n",
       "    </tr>\n",
       "    <tr>\n",
       "        <td>United Kingdom</td>\n",
       "        <td>3</td>\n",
       "        <td>245.5</td>\n",
       "        <td>81.8</td>\n",
       "        <td>8.8</td>\n",
       "    </tr>\n",
       "    <tr>\n",
       "        <td>Portugal</td>\n",
       "        <td>2</td>\n",
       "        <td>185.1</td>\n",
       "        <td>92.6</td>\n",
       "        <td>6.4</td>\n",
       "    </tr>\n",
       "    <tr>\n",
       "        <td>India</td>\n",
       "        <td>2</td>\n",
       "        <td>183.2</td>\n",
       "        <td>91.6</td>\n",
       "        <td>8.7</td>\n",
       "    </tr>\n",
       "    <tr>\n",
       "        <td>Czech Republic</td>\n",
       "        <td>2</td>\n",
       "        <td>273.2</td>\n",
       "        <td>136.6</td>\n",
       "        <td>9.1</td>\n",
       "    </tr>\n",
       "    <tr>\n",
       "        <td>Others</td>\n",
       "        <td>15</td>\n",
       "        <td>1094.8</td>\n",
       "        <td>73.0</td>\n",
       "        <td>7.4</td>\n",
       "    </tr>\n",
       "</table>"
      ],
      "text/plain": [
       "[('USA', 13, 1040.5, 80.0, 7.9),\n",
       " ('Canada', 8, 535.6, 67.0, 7.0),\n",
       " ('France', 5, 389.1, 77.8, 7.8),\n",
       " ('Brazil', 5, 427.7, 85.5, 7.0),\n",
       " ('Germany', 4, 334.6, 83.7, 8.2),\n",
       " ('United Kingdom', 3, 245.5, 81.8, 8.8),\n",
       " ('Portugal', 2, 185.1, 92.6, 6.4),\n",
       " ('India', 2, 183.2, 91.6, 8.7),\n",
       " ('Czech Republic', 2, 273.2, 136.6, 9.1),\n",
       " ('Others', 15, 1094.8, 73.0, 7.4)]"
      ]
     },
     "execution_count": 13,
     "metadata": {},
     "output_type": "execute_result"
    }
   ],
   "source": [
    "%%sql\n",
    "SELECT \n",
    "    country,    \n",
    "    num_of_customers,\n",
    "    total_sales,\n",
    "    sales_per_customer,   \n",
    "    avg_order_sum\n",
    "\n",
    "FROM \n",
    "    (SELECT \n",
    "        *,\n",
    "        CASE\n",
    "            WHEN country = 'Others' THEN 1\n",
    "            ELSE 0\n",
    "        END AS sorting_col\n",
    "        FROM\n",
    "            with_others_unsorted\n",
    "        ORDER BY sorting_col\n",
    "    )"
   ]
  },
  {
   "cell_type": "markdown",
   "metadata": {},
   "source": [
    "# 4. Whole albums sales"
   ]
  },
  {
   "cell_type": "markdown",
   "metadata": {},
   "source": [
    "This time imagine we are considering whether to buy only the most popular tracks from each album or continue to pay record companies some extra for the whole albums.\n",
    "\n",
    "We are asked to separate all purchases into 2 categories: album purchases and purchases of particular tracks to find out how often people buy whole albums.\n",
    "\n",
    "We are going to manage the task by several steps:\n",
    "1. From each invoice we will take any song (doesn't matter which) and determine which album does this song belong to. Then we can connect each invoice with an album. The results will be put into a view.\n",
    "2. For each invoice we will create a list of included tracks and compare the result with the list of tracks from the album connected with this invoice (mentioned above). If all the tracks from the album are presented in the invoice, we'll consider this purchase as an \"album purchase\".\n",
    "3. Then we will count how many album and non-album purchases we had and compute the percentage of each category.\n",
    "\n",
    "STEP 1:"
   ]
  },
  {
   "cell_type": "code",
   "execution_count": 14,
   "metadata": {},
   "outputs": [
    {
     "name": "stdout",
     "output_type": "stream",
     "text": [
      " * sqlite:///chinook.db\n",
      "Done.\n",
      "Done.\n",
      "Done.\n"
     ]
    },
    {
     "data": {
      "text/html": [
       "<table>\n",
       "    <tr>\n",
       "        <th>invoice_id</th>\n",
       "        <th>album_id</th>\n",
       "    </tr>\n",
       "    <tr>\n",
       "        <td>1</td>\n",
       "        <td>91</td>\n",
       "    </tr>\n",
       "    <tr>\n",
       "        <td>2</td>\n",
       "        <td>322</td>\n",
       "    </tr>\n",
       "    <tr>\n",
       "        <td>3</td>\n",
       "        <td>203</td>\n",
       "    </tr>\n",
       "</table>"
      ],
      "text/plain": [
       "[(1, 91), (2, 322), (3, 203)]"
      ]
     },
     "execution_count": 14,
     "metadata": {},
     "output_type": "execute_result"
    }
   ],
   "source": [
    "%%sql\n",
    "DROP VIEW IF EXISTS invoice_album;\n",
    "\n",
    "CREATE VIEW invoice_album AS\n",
    "SELECT \n",
    "    il.invoice_id,\n",
    "    t.album_id\n",
    "\n",
    "FROM \n",
    "    invoice_line AS il   \n",
    "    INNER JOIN track AS t            \n",
    "    ON il.track_id = t.track_id\n",
    "GROUP BY 1    \n",
    "ORDER BY 1;\n",
    "\n",
    "SELECT * FROM invoice_album\n",
    "LIMIT 3"
   ]
  },
  {
   "cell_type": "markdown",
   "metadata": {},
   "source": [
    "STEP 2:"
   ]
  },
  {
   "cell_type": "code",
   "execution_count": 15,
   "metadata": {},
   "outputs": [
    {
     "name": "stdout",
     "output_type": "stream",
     "text": [
      " * sqlite:///chinook.db\n",
      "Done.\n",
      "Done.\n",
      "Done.\n"
     ]
    },
    {
     "data": {
      "text/html": [
       "<table>\n",
       "    <tr>\n",
       "        <th>invoice_id</th>\n",
       "        <th>album_purchase</th>\n",
       "    </tr>\n",
       "    <tr>\n",
       "        <td>1</td>\n",
       "        <td>yes</td>\n",
       "    </tr>\n",
       "    <tr>\n",
       "        <td>2</td>\n",
       "        <td>no</td>\n",
       "    </tr>\n",
       "    <tr>\n",
       "        <td>3</td>\n",
       "        <td>no</td>\n",
       "    </tr>\n",
       "</table>"
      ],
      "text/plain": [
       "[(1, 'yes'), (2, 'no'), (3, 'no')]"
      ]
     },
     "execution_count": 15,
     "metadata": {},
     "output_type": "execute_result"
    }
   ],
   "source": [
    "%%sql\n",
    "DROP VIEW IF EXISTS invoice_category;\n",
    "CREATE VIEW invoice_category AS\n",
    "\n",
    "SELECT\n",
    "    ia.invoice_id,\n",
    "    CASE\n",
    "        WHEN\n",
    "             (\n",
    "              SELECT t.track_id \n",
    "              FROM   track t\n",
    "              WHERE  t.album_id = ia.album_id \n",
    "\n",
    "              EXCEPT \n",
    "\n",
    "              SELECT il.track_id \n",
    "              FROM   invoice_line il\n",
    "              WHERE  il.invoice_id = ia.invoice_id\n",
    "                 \n",
    "             ) IS NULL\n",
    "\n",
    "        THEN \"yes\"\n",
    "        ELSE \"no\"\n",
    "        END AS \"album_purchase\"\n",
    "FROM invoice_album AS ia;\n",
    "\n",
    "\n",
    "SELECT * FROM invoice_category\n",
    "LIMIT 3"
   ]
  },
  {
   "cell_type": "markdown",
   "metadata": {},
   "source": [
    "STEP 3:"
   ]
  },
  {
   "cell_type": "code",
   "execution_count": 16,
   "metadata": {},
   "outputs": [
    {
     "name": "stdout",
     "output_type": "stream",
     "text": [
      " * sqlite:///chinook.db\n",
      "Done.\n"
     ]
    },
    {
     "data": {
      "text/html": [
       "<table>\n",
       "    <tr>\n",
       "        <th>album_purchase</th>\n",
       "        <th>num_of_purchases</th>\n",
       "        <th>%</th>\n",
       "    </tr>\n",
       "    <tr>\n",
       "        <td>no</td>\n",
       "        <td>484</td>\n",
       "        <td>78.83%</td>\n",
       "    </tr>\n",
       "    <tr>\n",
       "        <td>yes</td>\n",
       "        <td>130</td>\n",
       "        <td>21.17%</td>\n",
       "    </tr>\n",
       "</table>"
      ],
      "text/plain": [
       "[('no', 484, '78.83%'), ('yes', 130, '21.17%')]"
      ]
     },
     "execution_count": 16,
     "metadata": {},
     "output_type": "execute_result"
    }
   ],
   "source": [
    "%%sql\n",
    "\n",
    "SELECT\n",
    "    album_purchase,\n",
    "    COUNT(invoice_id) num_of_purchases,\n",
    "    (\n",
    "    ROUND\n",
    "        ( \n",
    "        CAST(COUNT(invoice_id) AS FLOAT) / \n",
    "                (\n",
    "                 SELECT COUNT(invoice_id) \n",
    "                 FROM invoice_category\n",
    "                )\n",
    "        ,4 \n",
    "        )\n",
    "        * 100) || '%' AS '%'\n",
    "FROM \n",
    "    invoice_category\n",
    "GROUP BY 1"
   ]
  },
  {
   "cell_type": "markdown",
   "metadata": {},
   "source": [
    "It is not surpisingly that only 22% of all purchases were the whole album ones. However it could be quite risky to change a strategy and sell only the most popular tracks. The absence of some songs from the album may lead customer to change the music service. I would continue to store and sale the whole albums"
   ]
  }
 ],
 "metadata": {
  "kernelspec": {
   "display_name": "Python 3 (ipykernel)",
   "language": "python",
   "name": "python3"
  },
  "language_info": {
   "codemirror_mode": {
    "name": "ipython",
    "version": 3
   },
   "file_extension": ".py",
   "mimetype": "text/x-python",
   "name": "python",
   "nbconvert_exporter": "python",
   "pygments_lexer": "ipython3",
   "version": "3.9.7"
  }
 },
 "nbformat": 4,
 "nbformat_minor": 2
}
