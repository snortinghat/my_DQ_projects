{
  "nbformat": 4,
  "nbformat_minor": 0,
  "metadata": {
    "colab": {
      "provenance": [],
      "toc_visible": true,
      "authorship_tag": "ABX9TyMY5arigXOrBuoCzcLfhH0L",
      "include_colab_link": true
    },
    "kernelspec": {
      "name": "python3",
      "display_name": "Python 3"
    },
    "language_info": {
      "name": "python"
    }
  },
  "cells": [
    {
      "cell_type": "markdown",
      "metadata": {
        "id": "view-in-github",
        "colab_type": "text"
      },
      "source": [
        "<a href=\"https://colab.research.google.com/github/snortinghat/my_projects/blob/main/Algorithms/Algorithms_linked_lists.ipynb\" target=\"_parent\"><img src=\"https://colab.research.google.com/assets/colab-badge.svg\" alt=\"Open In Colab\"/></a>"
      ]
    },
    {
      "cell_type": "markdown",
      "source": [
        "# Linked list data structure"
      ],
      "metadata": {
        "id": "TdovAqmIR5y6"
      }
    },
    {
      "cell_type": "code",
      "source": [
        "class Node:\n",
        "  data = None\n",
        "  next_node = None\n",
        "\n",
        "  def __init__(self, data):\n",
        "    self.data = data\n",
        "\n",
        "  def __repr__(self):\n",
        "    return \"<Node data: %s>\" % self.data\n"
      ],
      "metadata": {
        "id": "vuQw1-MsR3wo"
      },
      "execution_count": 1,
      "outputs": []
    },
    {
      "cell_type": "code",
      "source": [
        "class LinkedList():\n",
        "\n",
        "  def __init__(self):\n",
        "    self.head = None\n",
        "\n",
        "\n",
        "  def is_empty(self):\n",
        "    return self.head == None\n",
        "\n",
        "\n",
        "  def add(self, data):\n",
        "    new_node = Node(data)\n",
        "    new_node.next_node = self.head\n",
        "    self.head = new_node  \n",
        "\n",
        "\n",
        "  def size(self):\n",
        "    current = self.head\n",
        "    count = 0\n",
        "\n",
        "    while current:\n",
        "      count += 1\n",
        "      current = current.next_node\n",
        "\n",
        "    return count \n",
        "\n",
        "\n",
        "\n",
        "  def search(self, key):\n",
        "    current = self.head\n",
        "\n",
        "    while current:\n",
        "      if current.data == key:\n",
        "        return current\n",
        "      else:\n",
        "        current = current.next_node\n",
        "    return None\n",
        "\n",
        "\n",
        "  def insert(self, data, index):\n",
        "    if index == 0:\n",
        "      self.add(data)\n",
        "    else:\n",
        "      new_node = Node(data)\n",
        "      position = index\n",
        "      current = self.head\n",
        "\n",
        "      while position > 1:\n",
        "        current = current.next_node\n",
        "        position -= 1\n",
        "      \n",
        "      prev = current\n",
        "      next = current.next_node\n",
        "\n",
        "      prev.next_node = new_node\n",
        "      new_node.next_node = next\n",
        "\n",
        "\n",
        "  def remove(self, key):\n",
        "    current = self.head\n",
        "    previous = None\n",
        "    found = False\n",
        "\n",
        "    while current and not found:\n",
        "      if key == current.data and current is self.head:\n",
        "        found = True\n",
        "        self.head = current.next_node\n",
        "      elif key == current.data:\n",
        "        found = True\n",
        "        previous.next_node = current.next_node\n",
        "      else:\n",
        "        previous = current\n",
        "        current = current.next_node\n",
        "    return current    \n",
        "\n",
        "\n",
        "  def node_at_index(self, index):\n",
        "    if index == 0:\n",
        "      return self.head\n",
        "    else:\n",
        "      current = self.head\n",
        "      position = 0\n",
        "\n",
        "      while position < index:\n",
        "        current = current.next_node\n",
        "        position += 1\n",
        "      return current\n",
        "\n",
        "\n",
        "  def __repr__(self):\n",
        "    current = self.head\n",
        "    nodes = []\n",
        "    \n",
        "    while current:\n",
        "      if current is self.head:\n",
        "        nodes.append('[Head: %s]' % current.data)\n",
        "      elif current.next_node is None:\n",
        "        nodes.append('[Tail: %s]' % current.data)\n",
        "      else:\n",
        "        nodes.append('[%s]' % current.data)\n",
        "\n",
        "      current = current.next_node\n",
        "\n",
        "    return '-> '.join(nodes) "
      ],
      "metadata": {
        "id": "OXaKa38eTHC1"
      },
      "execution_count": 2,
      "outputs": []
    },
    {
      "cell_type": "code",
      "source": [
        "l = LinkedList()\n",
        "l.add(123)\n",
        "l.add(44)\n",
        "l.add(2)\n",
        "l.add(33)\n",
        "l"
      ],
      "metadata": {
        "colab": {
          "base_uri": "https://localhost:8080/"
        },
        "id": "3ucOP4dfBrJh",
        "outputId": "f2436867-8be8-4b7a-eb09-66adcdfa5a34"
      },
      "execution_count": 3,
      "outputs": [
        {
          "output_type": "execute_result",
          "data": {
            "text/plain": [
              "[Head: 33]-> [2]-> [44]-> [Tail: 123]"
            ]
          },
          "metadata": {},
          "execution_count": 3
        }
      ]
    },
    {
      "cell_type": "code",
      "source": [
        "l.remove(44)\n",
        "l.remove(123)\n",
        "l.remove(33)\n",
        "l"
      ],
      "metadata": {
        "colab": {
          "base_uri": "https://localhost:8080/"
        },
        "id": "KrkmyvpMB4J2",
        "outputId": "0a9ba464-1dd2-4027-96ad-b449ae0ff1c3"
      },
      "execution_count": 4,
      "outputs": [
        {
          "output_type": "execute_result",
          "data": {
            "text/plain": [
              "[Head: 2]"
            ]
          },
          "metadata": {},
          "execution_count": 4
        }
      ]
    },
    {
      "cell_type": "markdown",
      "source": [
        "# Linked list merge sort"
      ],
      "metadata": {
        "id": "FdfbTKIiM0sl"
      }
    },
    {
      "cell_type": "code",
      "source": [
        "def merge_sort(linked_list):\n",
        "  '''\n",
        "  Sort a linked list\n",
        "  Returns a sorted linked list\n",
        "  '''\n",
        "\n",
        "  # If the list is empty or includes only one node,\n",
        "  # it is already sorted\n",
        "  if linked_list.is_empty() or linked_list.size() == 1:\n",
        "    return linked_list\n",
        "  \n",
        "  # We split a list into halves a recursivly call this function\n",
        "  # to sort each half. We call split function only when there are\n",
        "  # at least 2 elements in the list\n",
        "  left_half, right_half = split(linked_list)\n",
        "  left = merge_sort(left_half)\n",
        "  right = merge_sort(right_half)\n",
        "\n",
        "  # When we get 2 sorted lists me can merge them into one sorted list\n",
        "  return merge(left, right)\n",
        "    \n",
        "\n",
        "def split(linked_list):\n",
        "  ''' Divides an unsorted list into halves '''\n",
        "\n",
        "  size = linked_list.size()\n",
        "  midpoint = size // 2\n",
        " \n",
        "  # We'll assign all values to the left half and further we'll\n",
        "  # cut the right half from it\n",
        "  left_half = linked_list\n",
        "\n",
        "  # Finding the last node of the left half\n",
        "  last_left_node = left_half.node_at_index(midpoint-1)\n",
        "  \n",
        "  # Crqating a new linked list which will hold the right half\n",
        "  # of initial linked list\n",
        "  right_half = LinkedList()\n",
        "  \n",
        "  # Establishing a middle node as a head for the right half\n",
        "  right_half.head = last_left_node.next_node\n",
        "\n",
        "  # Making the last left node as a tail node\n",
        "  last_left_node.next_node = None\n",
        "  \n",
        "  return left_half, right_half\n",
        "\n",
        "\n",
        "def merge(left, right):\n",
        "\n",
        "  # We create a linked list and a fake head for it to get the starting point\n",
        "  merged = LinkedList()\n",
        "  merged.add('fake_head')\n",
        "  current = merged.head\n",
        "\n",
        "  # We'll follow for each element in both lists starting with their heads\n",
        "  # and compare them. Then we'll move the less to the result list\n",
        "  # and shift the head node of this \"half\" to the next node\n",
        "  left_head = left.head\n",
        "  right_head = right.head\n",
        "\n",
        "  # while there is anything in either left or right lists\n",
        "  while left_head or right_head:\n",
        "\n",
        "    # If left list is empty, we'll simply add everything\n",
        "    # that left in the right list\n",
        "    if left_head is None:\n",
        "      current.next_node = right_head\n",
        "      right_head = right_head.next_node\n",
        "\n",
        "    # And vice versa  \n",
        "    elif right_head is None:\n",
        "      current.next_node = left_head\n",
        "      left_head = left_head.next_node\n",
        "\n",
        "    # If there is anything in both left and right lists,\n",
        "    # we'll compare the data and add the less value to the result  \n",
        "    else:\n",
        "      if left_head.data < right_head.data:\n",
        "        current.next_node = left_head\n",
        "\n",
        "        # After adding a node from the list to the result we must switch\n",
        "        # the head of this list by 1 position further\n",
        "\n",
        "        left_head = left_head.next_node\n",
        "      else:\n",
        "        current.next_node = right_head\n",
        "        right_head = right_head.next_node\n",
        "    \n",
        "    # When we add something to the result, we swich the next \"current\"\n",
        "    current = current.next_node\n",
        "\n",
        "  # Getting rid of the fake node\n",
        "  merged.head = merged.head.next_node      \n",
        "  return merged"
      ],
      "metadata": {
        "id": "Qr2iC_PnMQ0V"
      },
      "execution_count": 5,
      "outputs": []
    },
    {
      "cell_type": "code",
      "source": [
        "l = LinkedList()\n",
        "l.add(123)\n",
        "l.add(44)\n",
        "l.add(2)\n",
        "l.add(33)\n",
        "l.add(200)\n",
        "l.add(1)\n",
        "l.add(10)\n",
        "l.add(10)\n",
        "l"
      ],
      "metadata": {
        "colab": {
          "base_uri": "https://localhost:8080/"
        },
        "id": "15Tebw2jwor0",
        "outputId": "b3867ec7-307f-4628-e148-4db6d104ea17"
      },
      "execution_count": 6,
      "outputs": [
        {
          "output_type": "execute_result",
          "data": {
            "text/plain": [
              "[Head: 10]-> [10]-> [1]-> [200]-> [33]-> [2]-> [44]-> [Tail: 123]"
            ]
          },
          "metadata": {},
          "execution_count": 6
        }
      ]
    },
    {
      "cell_type": "code",
      "source": [
        "l_sorted = merge_sort(l)\n",
        "l_sorted"
      ],
      "metadata": {
        "colab": {
          "base_uri": "https://localhost:8080/"
        },
        "id": "HQpf7FomMz0z",
        "outputId": "413ccbe2-6afb-48ec-cb36-5675f13e83a1"
      },
      "execution_count": 7,
      "outputs": [
        {
          "output_type": "execute_result",
          "data": {
            "text/plain": [
              "[Head: 1]-> [2]-> [10]-> [10]-> [33]-> [44]-> [123]-> [Tail: 200]"
            ]
          },
          "metadata": {},
          "execution_count": 7
        }
      ]
    }
  ]
}