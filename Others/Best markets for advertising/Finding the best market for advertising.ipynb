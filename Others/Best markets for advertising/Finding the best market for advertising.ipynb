{
 "cells": [
  {
   "cell_type": "markdown",
   "metadata": {},
   "source": [
    "# The most perspective markets in programming e-learning\n",
    "\n",
    "In this project we are working as an analyst for an e-learning company that offers courses on programming. Most of our courses are on web and mobile development, but we also cover many other domains, like data science, game development, etc.\n",
    "\n",
    "Our company has some money to invest in advertisement. We are going to determine two markets that are the most perspective for advertizing\n",
    "\n",
    "To reach our goal, we could organize surveys for a couple of different markets to find out which would be the best choices for advertising. This is very costly, however, and it's a good call to explore cheaper options first.\n",
    "\n",
    "We can try to search existing data that might be relevant for our purpose. One good candidate is the data from [freeCodeCamp's 2017 New Coder Survey](https://medium.freecodecamp.org/we-asked-20-000-people-who-they-are-and-how-theyre-learning-to-code-fff5d668969).\n",
    "\n",
    "[freeCodeCamp](https://www.freecodecamp.org/) is a free e-learning platform that offers courses on web development. Because they run a popular [Medium publication](https://medium.freecodecamp.org/) (over 400,000 followers), their survey attracted new coders with varying interests (not only web development), which is ideal for the purpose of our analysis.\n",
    "\n",
    "The survey data is publicly available in [this GitHub repository](https://github.com/freeCodeCamp/2017-new-coder-survey)."
   ]
  },
  {
   "cell_type": "markdown",
   "metadata": {},
   "source": [
    "# Exploring data"
   ]
  },
  {
   "cell_type": "code",
   "execution_count": 1,
   "metadata": {},
   "outputs": [],
   "source": [
    "import pandas as pd\n",
    "import matplotlib.pyplot as plt\n",
    "import seaborn as sns\n",
    "%matplotlib inline\n",
    "\n",
    "data = pd.read_csv('2017-fCC-New-Coders-Survey-Data.csv', low_memory=0)"
   ]
  },
  {
   "cell_type": "code",
   "execution_count": 2,
   "metadata": {
    "scrolled": true
   },
   "outputs": [
    {
     "name": "stdout",
     "output_type": "stream",
     "text": [
      "<class 'pandas.core.frame.DataFrame'>\n",
      "RangeIndex: 18175 entries, 0 to 18174\n",
      "Columns: 136 entries, Age to YouTubeTheNewBoston\n",
      "dtypes: float64(105), object(31)\n",
      "memory usage: 18.9+ MB\n"
     ]
    },
    {
     "data": {
      "text/html": [
       "<div>\n",
       "<style scoped>\n",
       "    .dataframe tbody tr th:only-of-type {\n",
       "        vertical-align: middle;\n",
       "    }\n",
       "\n",
       "    .dataframe tbody tr th {\n",
       "        vertical-align: top;\n",
       "    }\n",
       "\n",
       "    .dataframe thead th {\n",
       "        text-align: right;\n",
       "    }\n",
       "</style>\n",
       "<table border=\"1\" class=\"dataframe\">\n",
       "  <thead>\n",
       "    <tr style=\"text-align: right;\">\n",
       "      <th></th>\n",
       "      <th>Age</th>\n",
       "      <th>AttendedBootcamp</th>\n",
       "      <th>BootcampFinish</th>\n",
       "      <th>BootcampLoanYesNo</th>\n",
       "      <th>BootcampName</th>\n",
       "      <th>BootcampRecommend</th>\n",
       "      <th>ChildrenNumber</th>\n",
       "      <th>CityPopulation</th>\n",
       "      <th>CodeEventConferences</th>\n",
       "      <th>CodeEventDjangoGirls</th>\n",
       "      <th>...</th>\n",
       "      <th>YouTubeFCC</th>\n",
       "      <th>YouTubeFunFunFunction</th>\n",
       "      <th>YouTubeGoogleDev</th>\n",
       "      <th>YouTubeLearnCode</th>\n",
       "      <th>YouTubeLevelUpTuts</th>\n",
       "      <th>YouTubeMIT</th>\n",
       "      <th>YouTubeMozillaHacks</th>\n",
       "      <th>YouTubeOther</th>\n",
       "      <th>YouTubeSimplilearn</th>\n",
       "      <th>YouTubeTheNewBoston</th>\n",
       "    </tr>\n",
       "  </thead>\n",
       "  <tbody>\n",
       "    <tr>\n",
       "      <th>0</th>\n",
       "      <td>27.0</td>\n",
       "      <td>0.0</td>\n",
       "      <td>NaN</td>\n",
       "      <td>NaN</td>\n",
       "      <td>NaN</td>\n",
       "      <td>NaN</td>\n",
       "      <td>NaN</td>\n",
       "      <td>more than 1 million</td>\n",
       "      <td>NaN</td>\n",
       "      <td>NaN</td>\n",
       "      <td>...</td>\n",
       "      <td>NaN</td>\n",
       "      <td>NaN</td>\n",
       "      <td>NaN</td>\n",
       "      <td>NaN</td>\n",
       "      <td>NaN</td>\n",
       "      <td>NaN</td>\n",
       "      <td>NaN</td>\n",
       "      <td>NaN</td>\n",
       "      <td>NaN</td>\n",
       "      <td>NaN</td>\n",
       "    </tr>\n",
       "    <tr>\n",
       "      <th>1</th>\n",
       "      <td>34.0</td>\n",
       "      <td>0.0</td>\n",
       "      <td>NaN</td>\n",
       "      <td>NaN</td>\n",
       "      <td>NaN</td>\n",
       "      <td>NaN</td>\n",
       "      <td>NaN</td>\n",
       "      <td>less than 100,000</td>\n",
       "      <td>NaN</td>\n",
       "      <td>NaN</td>\n",
       "      <td>...</td>\n",
       "      <td>1.0</td>\n",
       "      <td>NaN</td>\n",
       "      <td>NaN</td>\n",
       "      <td>NaN</td>\n",
       "      <td>NaN</td>\n",
       "      <td>NaN</td>\n",
       "      <td>NaN</td>\n",
       "      <td>NaN</td>\n",
       "      <td>NaN</td>\n",
       "      <td>NaN</td>\n",
       "    </tr>\n",
       "    <tr>\n",
       "      <th>2</th>\n",
       "      <td>21.0</td>\n",
       "      <td>0.0</td>\n",
       "      <td>NaN</td>\n",
       "      <td>NaN</td>\n",
       "      <td>NaN</td>\n",
       "      <td>NaN</td>\n",
       "      <td>NaN</td>\n",
       "      <td>more than 1 million</td>\n",
       "      <td>NaN</td>\n",
       "      <td>NaN</td>\n",
       "      <td>...</td>\n",
       "      <td>NaN</td>\n",
       "      <td>NaN</td>\n",
       "      <td>NaN</td>\n",
       "      <td>1.0</td>\n",
       "      <td>1.0</td>\n",
       "      <td>NaN</td>\n",
       "      <td>NaN</td>\n",
       "      <td>NaN</td>\n",
       "      <td>NaN</td>\n",
       "      <td>NaN</td>\n",
       "    </tr>\n",
       "    <tr>\n",
       "      <th>3</th>\n",
       "      <td>26.0</td>\n",
       "      <td>0.0</td>\n",
       "      <td>NaN</td>\n",
       "      <td>NaN</td>\n",
       "      <td>NaN</td>\n",
       "      <td>NaN</td>\n",
       "      <td>NaN</td>\n",
       "      <td>between 100,000 and 1 million</td>\n",
       "      <td>NaN</td>\n",
       "      <td>NaN</td>\n",
       "      <td>...</td>\n",
       "      <td>1.0</td>\n",
       "      <td>1.0</td>\n",
       "      <td>NaN</td>\n",
       "      <td>NaN</td>\n",
       "      <td>1.0</td>\n",
       "      <td>NaN</td>\n",
       "      <td>NaN</td>\n",
       "      <td>NaN</td>\n",
       "      <td>NaN</td>\n",
       "      <td>NaN</td>\n",
       "    </tr>\n",
       "    <tr>\n",
       "      <th>4</th>\n",
       "      <td>20.0</td>\n",
       "      <td>0.0</td>\n",
       "      <td>NaN</td>\n",
       "      <td>NaN</td>\n",
       "      <td>NaN</td>\n",
       "      <td>NaN</td>\n",
       "      <td>NaN</td>\n",
       "      <td>between 100,000 and 1 million</td>\n",
       "      <td>NaN</td>\n",
       "      <td>NaN</td>\n",
       "      <td>...</td>\n",
       "      <td>NaN</td>\n",
       "      <td>NaN</td>\n",
       "      <td>NaN</td>\n",
       "      <td>NaN</td>\n",
       "      <td>NaN</td>\n",
       "      <td>NaN</td>\n",
       "      <td>NaN</td>\n",
       "      <td>NaN</td>\n",
       "      <td>NaN</td>\n",
       "      <td>NaN</td>\n",
       "    </tr>\n",
       "  </tbody>\n",
       "</table>\n",
       "<p>5 rows × 136 columns</p>\n",
       "</div>"
      ],
      "text/plain": [
       "    Age  AttendedBootcamp  BootcampFinish  BootcampLoanYesNo BootcampName  \\\n",
       "0  27.0               0.0             NaN                NaN          NaN   \n",
       "1  34.0               0.0             NaN                NaN          NaN   \n",
       "2  21.0               0.0             NaN                NaN          NaN   \n",
       "3  26.0               0.0             NaN                NaN          NaN   \n",
       "4  20.0               0.0             NaN                NaN          NaN   \n",
       "\n",
       "   BootcampRecommend  ChildrenNumber                 CityPopulation  \\\n",
       "0                NaN             NaN            more than 1 million   \n",
       "1                NaN             NaN              less than 100,000   \n",
       "2                NaN             NaN            more than 1 million   \n",
       "3                NaN             NaN  between 100,000 and 1 million   \n",
       "4                NaN             NaN  between 100,000 and 1 million   \n",
       "\n",
       "   CodeEventConferences  CodeEventDjangoGirls  ...  YouTubeFCC  \\\n",
       "0                   NaN                   NaN  ...         NaN   \n",
       "1                   NaN                   NaN  ...         1.0   \n",
       "2                   NaN                   NaN  ...         NaN   \n",
       "3                   NaN                   NaN  ...         1.0   \n",
       "4                   NaN                   NaN  ...         NaN   \n",
       "\n",
       "   YouTubeFunFunFunction  YouTubeGoogleDev  YouTubeLearnCode  \\\n",
       "0                    NaN               NaN               NaN   \n",
       "1                    NaN               NaN               NaN   \n",
       "2                    NaN               NaN               1.0   \n",
       "3                    1.0               NaN               NaN   \n",
       "4                    NaN               NaN               NaN   \n",
       "\n",
       "   YouTubeLevelUpTuts  YouTubeMIT  YouTubeMozillaHacks YouTubeOther  \\\n",
       "0                 NaN         NaN                  NaN          NaN   \n",
       "1                 NaN         NaN                  NaN          NaN   \n",
       "2                 1.0         NaN                  NaN          NaN   \n",
       "3                 1.0         NaN                  NaN          NaN   \n",
       "4                 NaN         NaN                  NaN          NaN   \n",
       "\n",
       "   YouTubeSimplilearn  YouTubeTheNewBoston  \n",
       "0                 NaN                  NaN  \n",
       "1                 NaN                  NaN  \n",
       "2                 NaN                  NaN  \n",
       "3                 NaN                  NaN  \n",
       "4                 NaN                  NaN  \n",
       "\n",
       "[5 rows x 136 columns]"
      ]
     },
     "execution_count": 2,
     "metadata": {},
     "output_type": "execute_result"
    }
   ],
   "source": [
    "data.info()\n",
    "data.head()"
   ]
  },
  {
   "cell_type": "code",
   "execution_count": 3,
   "metadata": {
    "scrolled": true
   },
   "outputs": [
    {
     "name": "stdout",
     "output_type": "stream",
     "text": [
      "Age 15367\n",
      "AttendedBootcamp 17709\n",
      "CityPopulation 15354\n",
      "CommuteTime 9246\n",
      "CountryCitizen 15382\n",
      "CountryLive 15336\n",
      "EmploymentField 8116\n",
      "EmploymentStatus 14345\n",
      "ExpectedEarning 7200\n",
      "Gender 15454\n",
      "HasDebt 15291\n",
      "HasFinancialDependents 15329\n",
      "HasHighSpdInternet 15380\n",
      "HasHomeMortgage 6397\n",
      "HasServedInMilitary 15256\n",
      "HasStudentDebt 6402\n",
      "HoursLearning 16714\n",
      "ID.x 18175\n",
      "ID.y 15743\n",
      "Income 7623\n",
      "IsEthnicMinority 15293\n",
      "IsReceiveDisabilitiesBenefits 15222\n",
      "IsSoftwareDev 18068\n",
      "IsUnderEmployed 9223\n",
      "JobApplyWhen 8138\n",
      "JobPref 13483\n",
      "JobRelocateYesNo 6503\n",
      "JobRoleInterest 6992\n",
      "JobWherePref 8118\n",
      "LanguageAtHome 15344\n",
      "MaritalStatus 15335\n",
      "MoneyForLearning 16577\n",
      "MonthsProgramming 17084\n",
      "NetworkID 18175\n",
      "Part1EndTime 18175\n",
      "Part1StartTime 18175\n",
      "Part2EndTime 15743\n",
      "Part2StartTime 15743\n",
      "ResourceCodecademy 9390\n",
      "ResourceFCC 13803\n",
      "ResourceMDN 6417\n",
      "ResourceSO 11207\n",
      "ResourceUdemy 5120\n",
      "ResourceW3S 9765\n",
      "SchoolDegree 15368\n",
      "SchoolMajor 8727\n",
      "YouTubeFCC 6036\n"
     ]
    }
   ],
   "source": [
    "#Show all columns with more than 5 000 not Null values\n",
    "\n",
    "for i in data.columns:\n",
    "    if data[i].notna().sum() > 5000:\n",
    "        print(i, data[i].notna().sum())  "
   ]
  },
  {
   "cell_type": "markdown",
   "metadata": {},
   "source": [
    "# Relevant columns\n",
    "We've determined the columns we want to analize. These are:\n",
    "1. **ID** - unique number of a respondent\n",
    "2. **CountryLive** - a country where he lives\n",
    "3. **MonthsProgramming** - how long in months a person is learning programming\n",
    "4. **MoneyForLearning** - how much money a person has already spent on learning\n",
    "5. **JobRoleInterest** - which programming jobs the person is interested in\n"
   ]
  },
  {
   "cell_type": "code",
   "execution_count": 4,
   "metadata": {
    "scrolled": true
   },
   "outputs": [
    {
     "name": "stdout",
     "output_type": "stream",
     "text": [
      "<class 'pandas.core.frame.DataFrame'>\n",
      "RangeIndex: 18175 entries, 0 to 18174\n",
      "Data columns (total 5 columns):\n",
      " #   Column             Non-Null Count  Dtype  \n",
      "---  ------             --------------  -----  \n",
      " 0   ID.x               18175 non-null  object \n",
      " 1   CountryLive        15336 non-null  object \n",
      " 2   MonthsProgramming  17084 non-null  float64\n",
      " 3   MoneyForLearning   16577 non-null  float64\n",
      " 4   JobRoleInterest    6992 non-null   object \n",
      "dtypes: float64(2), object(3)\n",
      "memory usage: 710.1+ KB\n"
     ]
    }
   ],
   "source": [
    "relevant_data = data[['ID.x',\n",
    "                      'CountryLive',\n",
    "                      'MonthsProgramming',\n",
    "                      'MoneyForLearning',\n",
    "                      'JobRoleInterest'\n",
    "                     ]].copy()\n",
    "relevant_data.info()"
   ]
  },
  {
   "cell_type": "markdown",
   "metadata": {},
   "source": [
    "# Dropping rows without job interest\n",
    "As our goal is to choose 2 markets for advertising, we can't interpret any information when a respondent has no job interests. We simply can't predict which courses to advertise her. So we are going to use only the answers with at least one job interest"
   ]
  },
  {
   "cell_type": "code",
   "execution_count": 5,
   "metadata": {
    "scrolled": true
   },
   "outputs": [
    {
     "name": "stdout",
     "output_type": "stream",
     "text": [
      "<class 'pandas.core.frame.DataFrame'>\n",
      "Int64Index: 6992 entries, 1 to 18174\n",
      "Data columns (total 5 columns):\n",
      " #   Column             Non-Null Count  Dtype  \n",
      "---  ------             --------------  -----  \n",
      " 0   ID.x               6992 non-null   object \n",
      " 1   CountryLive        6838 non-null   object \n",
      " 2   MonthsProgramming  6633 non-null   float64\n",
      " 3   MoneyForLearning   6476 non-null   float64\n",
      " 4   JobRoleInterest    6992 non-null   object \n",
      "dtypes: float64(2), object(3)\n",
      "memory usage: 327.8+ KB\n"
     ]
    }
   ],
   "source": [
    "relevant_data = relevant_data[relevant_data['JobRoleInterest'].notnull()]\n",
    "relevant_data.info()"
   ]
  },
  {
   "cell_type": "markdown",
   "metadata": {},
   "source": [
    "# Dropping rows with nulls\n",
    "Now we have only a one third from the initial data set, but there are also some Null values. Let's see how dropping all rows with Nulls will affect on the data set"
   ]
  },
  {
   "cell_type": "code",
   "execution_count": 6,
   "metadata": {
    "scrolled": true
   },
   "outputs": [
    {
     "name": "stdout",
     "output_type": "stream",
     "text": [
      "<class 'pandas.core.frame.DataFrame'>\n",
      "Int64Index: 6212 entries, 1 to 18171\n",
      "Data columns (total 5 columns):\n",
      " #   Column             Non-Null Count  Dtype  \n",
      "---  ------             --------------  -----  \n",
      " 0   ID.x               6212 non-null   object \n",
      " 1   CountryLive        6212 non-null   object \n",
      " 2   MonthsProgramming  6212 non-null   float64\n",
      " 3   MoneyForLearning   6212 non-null   float64\n",
      " 4   JobRoleInterest    6212 non-null   object \n",
      "dtypes: float64(2), object(3)\n",
      "memory usage: 291.2+ KB\n"
     ]
    }
   ],
   "source": [
    "relevant_data.dropna(axis=0, inplace=True)\n",
    "relevant_data.info()"
   ]
  },
  {
   "cell_type": "markdown",
   "metadata": {},
   "source": [
    "As it has decreased only by about 10 per cent we can state it's OK to simply drop all rows with nulls"
   ]
  },
  {
   "cell_type": "markdown",
   "metadata": {},
   "source": [
    "# Renaming columns"
   ]
  },
  {
   "cell_type": "code",
   "execution_count": 7,
   "metadata": {},
   "outputs": [
    {
     "data": {
      "text/html": [
       "<div>\n",
       "<style scoped>\n",
       "    .dataframe tbody tr th:only-of-type {\n",
       "        vertical-align: middle;\n",
       "    }\n",
       "\n",
       "    .dataframe tbody tr th {\n",
       "        vertical-align: top;\n",
       "    }\n",
       "\n",
       "    .dataframe thead th {\n",
       "        text-align: right;\n",
       "    }\n",
       "</style>\n",
       "<table border=\"1\" class=\"dataframe\">\n",
       "  <thead>\n",
       "    <tr style=\"text-align: right;\">\n",
       "      <th></th>\n",
       "      <th>id</th>\n",
       "      <th>country</th>\n",
       "      <th>months_programming</th>\n",
       "      <th>money_for_learning</th>\n",
       "      <th>job_interest</th>\n",
       "    </tr>\n",
       "  </thead>\n",
       "  <tbody>\n",
       "    <tr>\n",
       "      <th>1</th>\n",
       "      <td>5bfef9ecb211ec4f518cfc1d2a6f3e0c</td>\n",
       "      <td>United States of America</td>\n",
       "      <td>6.0</td>\n",
       "      <td>80.0</td>\n",
       "      <td>Full-Stack Web Developer</td>\n",
       "    </tr>\n",
       "    <tr>\n",
       "      <th>2</th>\n",
       "      <td>14f1863afa9c7de488050b82eb3edd96</td>\n",
       "      <td>United States of America</td>\n",
       "      <td>5.0</td>\n",
       "      <td>1000.0</td>\n",
       "      <td>Front-End Web Developer, Back-End Web Develo...</td>\n",
       "    </tr>\n",
       "  </tbody>\n",
       "</table>\n",
       "</div>"
      ],
      "text/plain": [
       "                                 id                   country  \\\n",
       "1  5bfef9ecb211ec4f518cfc1d2a6f3e0c  United States of America   \n",
       "2  14f1863afa9c7de488050b82eb3edd96  United States of America   \n",
       "\n",
       "   months_programming  money_for_learning  \\\n",
       "1                 6.0                80.0   \n",
       "2                 5.0              1000.0   \n",
       "\n",
       "                                        job_interest  \n",
       "1                           Full-Stack Web Developer  \n",
       "2    Front-End Web Developer, Back-End Web Develo...  "
      ]
     },
     "execution_count": 7,
     "metadata": {},
     "output_type": "execute_result"
    }
   ],
   "source": [
    "relevant_data.rename(columns = {'ID.x': 'id',\n",
    "                                'CountryLive': 'country',\n",
    "                                'MonthsProgramming': 'months_programming',\n",
    "                                'MoneyForLearning': 'money_for_learning',\n",
    "                                'JobRoleInterest': 'job_interest'},\n",
    "                     inplace = True)\n",
    "relevant_data.head(2)"
   ]
  },
  {
   "cell_type": "markdown",
   "metadata": {},
   "source": [
    "# Exploring job interests\n",
    "Let's analize which jobs are the most interesting for the audience"
   ]
  },
  {
   "cell_type": "code",
   "execution_count": 8,
   "metadata": {
    "scrolled": true
   },
   "outputs": [
    {
     "data": {
      "text/plain": [
       "Full-Stack Web Developer                                                                                                                                                                                                                                                                    11.799742\n",
       "  Front-End Web Developer                                                                                                                                                                                                                                                                    6.423052\n",
       "  Data Scientist                                                                                                                                                                                                                                                                             2.189311\n",
       "Back-End Web Developer                                                                                                                                                                                                                                                                       1.996137\n",
       "Game Developer                                                                                                                                                                                                                                                                               1.625885\n",
       "                                                                                                                                                                                                                                                                                              ...    \n",
       "  Front-End Web Developer,   DevOps / SysAdmin,   Mobile Developer, Full-Stack Web Developer                                                                                                                                                                                                 0.016098\n",
       "Back-End Web Developer,   Front-End Web Developer, Data Engineer, Full-Stack Web Developer,   Mobile Developer                                                                                                                                                                               0.016098\n",
       "Back-End Web Developer,   User Experience Designer,   Mobile Developer, Game Developer,   Front-End Web Developer, Full-Stack Web Developer                                                                                                                                                  0.016098\n",
       "  Front-End Web Developer,   Mobile Developer, Back-End Web Developer, Full-Stack Web Developer, Data Engineer                                                                                                                                                                               0.016098\n",
       "  DevOps / SysAdmin,   Mobile Developer,   Product Manager, Game Developer,   Front-End Web Developer, Data Engineer,   Quality Assurance Engineer,   User Experience Designer, Back-End Web Developer,   Data Scientist, Full-Stack Web Developer, Information Security, IT specialist      0.016098\n",
       "Name: job_interest, Length: 2905, dtype: float64"
      ]
     },
     "execution_count": 8,
     "metadata": {},
     "output_type": "execute_result"
    }
   ],
   "source": [
    "relevant_data['job_interest'].value_counts(normalize=True)*100"
   ]
  },
  {
   "cell_type": "markdown",
   "metadata": {},
   "source": [
    "# Dividing job interests\n",
    "It seems **job_interest** column need to be cleaned because multiple answers were allowed. To see the entire picture we need to count all mentions for every job. We'll do this by splitting the **job_interest** column and then melt the result"
   ]
  },
  {
   "cell_type": "code",
   "execution_count": 9,
   "metadata": {
    "scrolled": true
   },
   "outputs": [
    {
     "name": "stdout",
     "output_type": "stream",
     "text": [
      "<class 'pandas.core.frame.DataFrame'>\n",
      "Int64Index: 6212 entries, 1 to 18171\n",
      "Data columns (total 18 columns):\n",
      " #   Column              Non-Null Count  Dtype  \n",
      "---  ------              --------------  -----  \n",
      " 0   id                  6212 non-null   object \n",
      " 1   country             6212 non-null   object \n",
      " 2   months_programming  6212 non-null   float64\n",
      " 3   money_for_learning  6212 non-null   float64\n",
      " 4   job_interest        6212 non-null   object \n",
      " 5   0                   6212 non-null   object \n",
      " 6   1                   4263 non-null   object \n",
      " 7   2                   3590 non-null   object \n",
      " 8   3                   2602 non-null   object \n",
      " 9   4                   1650 non-null   object \n",
      " 10  5                   904 non-null    object \n",
      " 11  6                   471 non-null    object \n",
      " 12  7                   225 non-null    object \n",
      " 13  8                   118 non-null    object \n",
      " 14  9                   56 non-null     object \n",
      " 15  10                  30 non-null     object \n",
      " 16  11                  20 non-null     object \n",
      " 17  12                  2 non-null      object \n",
      "dtypes: float64(2), object(16)\n",
      "memory usage: 922.1+ KB\n"
     ]
    },
    {
     "data": {
      "text/html": [
       "<div>\n",
       "<style scoped>\n",
       "    .dataframe tbody tr th:only-of-type {\n",
       "        vertical-align: middle;\n",
       "    }\n",
       "\n",
       "    .dataframe tbody tr th {\n",
       "        vertical-align: top;\n",
       "    }\n",
       "\n",
       "    .dataframe thead th {\n",
       "        text-align: right;\n",
       "    }\n",
       "</style>\n",
       "<table border=\"1\" class=\"dataframe\">\n",
       "  <thead>\n",
       "    <tr style=\"text-align: right;\">\n",
       "      <th></th>\n",
       "      <th>id</th>\n",
       "      <th>country</th>\n",
       "      <th>months_programming</th>\n",
       "      <th>money_for_learning</th>\n",
       "      <th>job_interest</th>\n",
       "      <th>0</th>\n",
       "      <th>1</th>\n",
       "      <th>2</th>\n",
       "      <th>3</th>\n",
       "      <th>4</th>\n",
       "      <th>5</th>\n",
       "      <th>6</th>\n",
       "      <th>7</th>\n",
       "      <th>8</th>\n",
       "      <th>9</th>\n",
       "      <th>10</th>\n",
       "      <th>11</th>\n",
       "      <th>12</th>\n",
       "    </tr>\n",
       "  </thead>\n",
       "  <tbody>\n",
       "    <tr>\n",
       "      <th>1</th>\n",
       "      <td>5bfef9ecb211ec4f518cfc1d2a6f3e0c</td>\n",
       "      <td>United States of America</td>\n",
       "      <td>6.0</td>\n",
       "      <td>80.0</td>\n",
       "      <td>Full-Stack Web Developer</td>\n",
       "      <td>Full-Stack Web Developer</td>\n",
       "      <td>None</td>\n",
       "      <td>None</td>\n",
       "      <td>None</td>\n",
       "      <td>None</td>\n",
       "      <td>None</td>\n",
       "      <td>None</td>\n",
       "      <td>None</td>\n",
       "      <td>None</td>\n",
       "      <td>None</td>\n",
       "      <td>None</td>\n",
       "      <td>None</td>\n",
       "      <td>None</td>\n",
       "    </tr>\n",
       "    <tr>\n",
       "      <th>2</th>\n",
       "      <td>14f1863afa9c7de488050b82eb3edd96</td>\n",
       "      <td>United States of America</td>\n",
       "      <td>5.0</td>\n",
       "      <td>1000.0</td>\n",
       "      <td>Front-End Web Developer, Back-End Web Develo...</td>\n",
       "      <td>Front-End Web Developer</td>\n",
       "      <td>Back-End Web Developer</td>\n",
       "      <td>DevOps / SysAdmin</td>\n",
       "      <td>Mobile Developer</td>\n",
       "      <td>Full-Stack Web Developer</td>\n",
       "      <td>None</td>\n",
       "      <td>None</td>\n",
       "      <td>None</td>\n",
       "      <td>None</td>\n",
       "      <td>None</td>\n",
       "      <td>None</td>\n",
       "      <td>None</td>\n",
       "      <td>None</td>\n",
       "    </tr>\n",
       "    <tr>\n",
       "      <th>3</th>\n",
       "      <td>91756eb4dc280062a541c25a3d44cfb0</td>\n",
       "      <td>Brazil</td>\n",
       "      <td>5.0</td>\n",
       "      <td>0.0</td>\n",
       "      <td>Front-End Web Developer, Full-Stack Web Deve...</td>\n",
       "      <td>Front-End Web Developer</td>\n",
       "      <td>Full-Stack Web Developer</td>\n",
       "      <td>Back-End Web Developer</td>\n",
       "      <td>None</td>\n",
       "      <td>None</td>\n",
       "      <td>None</td>\n",
       "      <td>None</td>\n",
       "      <td>None</td>\n",
       "      <td>None</td>\n",
       "      <td>None</td>\n",
       "      <td>None</td>\n",
       "      <td>None</td>\n",
       "      <td>None</td>\n",
       "    </tr>\n",
       "    <tr>\n",
       "      <th>4</th>\n",
       "      <td>aa3f061a1949a90b27bef7411ecd193f</td>\n",
       "      <td>Portugal</td>\n",
       "      <td>24.0</td>\n",
       "      <td>0.0</td>\n",
       "      <td>Full-Stack Web Developer, Information Security...</td>\n",
       "      <td>Full-Stack Web Developer</td>\n",
       "      <td>Information Security</td>\n",
       "      <td>Mobile Developer</td>\n",
       "      <td>Front-End Web Developer</td>\n",
       "      <td>Back-End Web Developer</td>\n",
       "      <td>None</td>\n",
       "      <td>None</td>\n",
       "      <td>None</td>\n",
       "      <td>None</td>\n",
       "      <td>None</td>\n",
       "      <td>None</td>\n",
       "      <td>None</td>\n",
       "      <td>None</td>\n",
       "    </tr>\n",
       "    <tr>\n",
       "      <th>6</th>\n",
       "      <td>5e130f133306abd6c2f9af31467ff37c</td>\n",
       "      <td>United Kingdom</td>\n",
       "      <td>12.0</td>\n",
       "      <td>0.0</td>\n",
       "      <td>Full-Stack Web Developer</td>\n",
       "      <td>Full-Stack Web Developer</td>\n",
       "      <td>None</td>\n",
       "      <td>None</td>\n",
       "      <td>None</td>\n",
       "      <td>None</td>\n",
       "      <td>None</td>\n",
       "      <td>None</td>\n",
       "      <td>None</td>\n",
       "      <td>None</td>\n",
       "      <td>None</td>\n",
       "      <td>None</td>\n",
       "      <td>None</td>\n",
       "      <td>None</td>\n",
       "    </tr>\n",
       "  </tbody>\n",
       "</table>\n",
       "</div>"
      ],
      "text/plain": [
       "                                 id                   country  \\\n",
       "1  5bfef9ecb211ec4f518cfc1d2a6f3e0c  United States of America   \n",
       "2  14f1863afa9c7de488050b82eb3edd96  United States of America   \n",
       "3  91756eb4dc280062a541c25a3d44cfb0                    Brazil   \n",
       "4  aa3f061a1949a90b27bef7411ecd193f                  Portugal   \n",
       "6  5e130f133306abd6c2f9af31467ff37c            United Kingdom   \n",
       "\n",
       "   months_programming  money_for_learning  \\\n",
       "1                 6.0                80.0   \n",
       "2                 5.0              1000.0   \n",
       "3                 5.0                 0.0   \n",
       "4                24.0                 0.0   \n",
       "6                12.0                 0.0   \n",
       "\n",
       "                                        job_interest  \\\n",
       "1                           Full-Stack Web Developer   \n",
       "2    Front-End Web Developer, Back-End Web Develo...   \n",
       "3    Front-End Web Developer, Full-Stack Web Deve...   \n",
       "4  Full-Stack Web Developer, Information Security...   \n",
       "6                           Full-Stack Web Developer   \n",
       "\n",
       "                           0                          1  \\\n",
       "1   Full-Stack Web Developer                       None   \n",
       "2    Front-End Web Developer     Back-End Web Developer   \n",
       "3    Front-End Web Developer   Full-Stack Web Developer   \n",
       "4   Full-Stack Web Developer       Information Security   \n",
       "6   Full-Stack Web Developer                       None   \n",
       "\n",
       "                         2                           3  \\\n",
       "1                     None                        None   \n",
       "2        DevOps / SysAdmin            Mobile Developer   \n",
       "3   Back-End Web Developer                        None   \n",
       "4         Mobile Developer     Front-End Web Developer   \n",
       "6                     None                        None   \n",
       "\n",
       "                           4     5     6     7     8     9    10    11    12  \n",
       "1                       None  None  None  None  None  None  None  None  None  \n",
       "2   Full-Stack Web Developer  None  None  None  None  None  None  None  None  \n",
       "3                       None  None  None  None  None  None  None  None  None  \n",
       "4     Back-End Web Developer  None  None  None  None  None  None  None  None  \n",
       "6                       None  None  None  None  None  None  None  None  None  "
      ]
     },
     "execution_count": 9,
     "metadata": {},
     "output_type": "execute_result"
    }
   ],
   "source": [
    "jobs = relevant_data['job_interest'].str.split(',', expand = True).copy()\n",
    "\n",
    "splited_db = pd.concat([relevant_data, jobs], axis=1)\n",
    "splited_db.info()\n",
    "splited_db.head()"
   ]
  },
  {
   "cell_type": "markdown",
   "metadata": {},
   "source": [
    "# Deleting initial job column in the merged db\n",
    "Now as we can see splitting was made right, we can delete the initial \"job_interest\" column"
   ]
  },
  {
   "cell_type": "code",
   "execution_count": 10,
   "metadata": {
    "scrolled": false
   },
   "outputs": [
    {
     "name": "stdout",
     "output_type": "stream",
     "text": [
      "<class 'pandas.core.frame.DataFrame'>\n",
      "Int64Index: 6212 entries, 1 to 18171\n",
      "Data columns (total 17 columns):\n",
      " #   Column              Non-Null Count  Dtype  \n",
      "---  ------              --------------  -----  \n",
      " 0   id                  6212 non-null   object \n",
      " 1   country             6212 non-null   object \n",
      " 2   months_programming  6212 non-null   float64\n",
      " 3   money_for_learning  6212 non-null   float64\n",
      " 4   0                   6212 non-null   object \n",
      " 5   1                   4263 non-null   object \n",
      " 6   2                   3590 non-null   object \n",
      " 7   3                   2602 non-null   object \n",
      " 8   4                   1650 non-null   object \n",
      " 9   5                   904 non-null    object \n",
      " 10  6                   471 non-null    object \n",
      " 11  7                   225 non-null    object \n",
      " 12  8                   118 non-null    object \n",
      " 13  9                   56 non-null     object \n",
      " 14  10                  30 non-null     object \n",
      " 15  11                  20 non-null     object \n",
      " 16  12                  2 non-null      object \n",
      "dtypes: float64(2), object(15)\n",
      "memory usage: 873.6+ KB\n"
     ]
    }
   ],
   "source": [
    "splited_db.drop('job_interest', axis=1, inplace=True)\n",
    "splited_db.info()"
   ]
  },
  {
   "cell_type": "markdown",
   "metadata": {},
   "source": [
    "# Melting"
   ]
  },
  {
   "cell_type": "code",
   "execution_count": 11,
   "metadata": {},
   "outputs": [
    {
     "name": "stdout",
     "output_type": "stream",
     "text": [
      "<class 'pandas.core.frame.DataFrame'>\n",
      "Int64Index: 20143 entries, 0 to 80755\n",
      "Data columns (total 6 columns):\n",
      " #   Column              Non-Null Count  Dtype  \n",
      "---  ------              --------------  -----  \n",
      " 0   id                  20143 non-null  object \n",
      " 1   country             20143 non-null  object \n",
      " 2   months_programming  20143 non-null  float64\n",
      " 3   money_for_learning  20143 non-null  float64\n",
      " 4   mention_num         20143 non-null  object \n",
      " 5   value               20143 non-null  object \n",
      "dtypes: float64(2), object(4)\n",
      "memory usage: 1.1+ MB\n"
     ]
    },
    {
     "data": {
      "text/html": [
       "<div>\n",
       "<style scoped>\n",
       "    .dataframe tbody tr th:only-of-type {\n",
       "        vertical-align: middle;\n",
       "    }\n",
       "\n",
       "    .dataframe tbody tr th {\n",
       "        vertical-align: top;\n",
       "    }\n",
       "\n",
       "    .dataframe thead th {\n",
       "        text-align: right;\n",
       "    }\n",
       "</style>\n",
       "<table border=\"1\" class=\"dataframe\">\n",
       "  <thead>\n",
       "    <tr style=\"text-align: right;\">\n",
       "      <th></th>\n",
       "      <th>id</th>\n",
       "      <th>country</th>\n",
       "      <th>months_programming</th>\n",
       "      <th>money_for_learning</th>\n",
       "      <th>mention_num</th>\n",
       "      <th>value</th>\n",
       "    </tr>\n",
       "  </thead>\n",
       "  <tbody>\n",
       "    <tr>\n",
       "      <th>6803</th>\n",
       "      <td>fffba79ffe1aacf3aaa4d55cd42c826e</td>\n",
       "      <td>India</td>\n",
       "      <td>8.0</td>\n",
       "      <td>0.0</td>\n",
       "      <td>1</td>\n",
       "      <td>Full-Stack Web Developer</td>\n",
       "    </tr>\n",
       "    <tr>\n",
       "      <th>19227</th>\n",
       "      <td>fffba79ffe1aacf3aaa4d55cd42c826e</td>\n",
       "      <td>India</td>\n",
       "      <td>8.0</td>\n",
       "      <td>0.0</td>\n",
       "      <td>3</td>\n",
       "      <td>Data Scientist</td>\n",
       "    </tr>\n",
       "    <tr>\n",
       "      <th>591</th>\n",
       "      <td>fffba79ffe1aacf3aaa4d55cd42c826e</td>\n",
       "      <td>India</td>\n",
       "      <td>8.0</td>\n",
       "      <td>0.0</td>\n",
       "      <td>0</td>\n",
       "      <td>Back-End Web Developer</td>\n",
       "    </tr>\n",
       "    <tr>\n",
       "      <th>13015</th>\n",
       "      <td>fffba79ffe1aacf3aaa4d55cd42c826e</td>\n",
       "      <td>India</td>\n",
       "      <td>8.0</td>\n",
       "      <td>0.0</td>\n",
       "      <td>2</td>\n",
       "      <td>Data Engineer</td>\n",
       "    </tr>\n",
       "    <tr>\n",
       "      <th>52506</th>\n",
       "      <td>fff57c57c3e9e9762f5410204dfa8281</td>\n",
       "      <td>Canada</td>\n",
       "      <td>6.0</td>\n",
       "      <td>400.0</td>\n",
       "      <td>8</td>\n",
       "      <td>Mobile Developer</td>\n",
       "    </tr>\n",
       "    <tr>\n",
       "      <th>33870</th>\n",
       "      <td>fff57c57c3e9e9762f5410204dfa8281</td>\n",
       "      <td>Canada</td>\n",
       "      <td>6.0</td>\n",
       "      <td>400.0</td>\n",
       "      <td>5</td>\n",
       "      <td>Back-End Web Developer</td>\n",
       "    </tr>\n",
       "    <tr>\n",
       "      <th>27658</th>\n",
       "      <td>fff57c57c3e9e9762f5410204dfa8281</td>\n",
       "      <td>Canada</td>\n",
       "      <td>6.0</td>\n",
       "      <td>400.0</td>\n",
       "      <td>4</td>\n",
       "      <td>Information Security</td>\n",
       "    </tr>\n",
       "    <tr>\n",
       "      <th>2810</th>\n",
       "      <td>fff57c57c3e9e9762f5410204dfa8281</td>\n",
       "      <td>Canada</td>\n",
       "      <td>6.0</td>\n",
       "      <td>400.0</td>\n",
       "      <td>0</td>\n",
       "      <td>Quality Assurance Engineer</td>\n",
       "    </tr>\n",
       "    <tr>\n",
       "      <th>15234</th>\n",
       "      <td>fff57c57c3e9e9762f5410204dfa8281</td>\n",
       "      <td>Canada</td>\n",
       "      <td>6.0</td>\n",
       "      <td>400.0</td>\n",
       "      <td>2</td>\n",
       "      <td>Data Scientist</td>\n",
       "    </tr>\n",
       "    <tr>\n",
       "      <th>9022</th>\n",
       "      <td>fff57c57c3e9e9762f5410204dfa8281</td>\n",
       "      <td>Canada</td>\n",
       "      <td>6.0</td>\n",
       "      <td>400.0</td>\n",
       "      <td>1</td>\n",
       "      <td>DevOps / SysAdmin</td>\n",
       "    </tr>\n",
       "  </tbody>\n",
       "</table>\n",
       "</div>"
      ],
      "text/plain": [
       "                                     id country  months_programming  \\\n",
       "6803   fffba79ffe1aacf3aaa4d55cd42c826e   India                 8.0   \n",
       "19227  fffba79ffe1aacf3aaa4d55cd42c826e   India                 8.0   \n",
       "591    fffba79ffe1aacf3aaa4d55cd42c826e   India                 8.0   \n",
       "13015  fffba79ffe1aacf3aaa4d55cd42c826e   India                 8.0   \n",
       "52506  fff57c57c3e9e9762f5410204dfa8281  Canada                 6.0   \n",
       "33870  fff57c57c3e9e9762f5410204dfa8281  Canada                 6.0   \n",
       "27658  fff57c57c3e9e9762f5410204dfa8281  Canada                 6.0   \n",
       "2810   fff57c57c3e9e9762f5410204dfa8281  Canada                 6.0   \n",
       "15234  fff57c57c3e9e9762f5410204dfa8281  Canada                 6.0   \n",
       "9022   fff57c57c3e9e9762f5410204dfa8281  Canada                 6.0   \n",
       "\n",
       "       money_for_learning mention_num                         value  \n",
       "6803                  0.0           1      Full-Stack Web Developer  \n",
       "19227                 0.0           3                Data Scientist  \n",
       "591                   0.0           0        Back-End Web Developer  \n",
       "13015                 0.0           2                 Data Engineer  \n",
       "52506               400.0           8              Mobile Developer  \n",
       "33870               400.0           5        Back-End Web Developer  \n",
       "27658               400.0           4          Information Security  \n",
       "2810                400.0           0    Quality Assurance Engineer  \n",
       "15234               400.0           2                Data Scientist  \n",
       "9022                400.0           1             DevOps / SysAdmin  "
      ]
     },
     "execution_count": 11,
     "metadata": {},
     "output_type": "execute_result"
    }
   ],
   "source": [
    "melted_db = splited_db.melt(id_vars = ['id',\n",
    "                                       'country', \n",
    "                                       'months_programming',\n",
    "                                       'money_for_learning'],\n",
    "                            value_vars = [0,1,2,3,4,5,6,7,8,9,10,11,12]                 \n",
    "                            )\n",
    "melted_db = melted_db[melted_db['value'].notnull()]\n",
    "melted_db.rename(columns = {'variable': 'mention_num'}, inplace=True)\n",
    "melted_db.info()\n",
    "melted_db.sort_values('id', ascending=False).head(10)"
   ]
  },
  {
   "cell_type": "markdown",
   "metadata": {},
   "source": [
    "# Cleaning"
   ]
  },
  {
   "cell_type": "code",
   "execution_count": 12,
   "metadata": {},
   "outputs": [
    {
     "data": {
      "text/plain": [
       " Full-Stack Web Developer      2228\n",
       "   Front-End Web Developer     2046\n",
       " Back-End Web Developer        1810\n",
       "Full-Stack Web Developer       1555\n",
       "   Mobile Developer            1531\n",
       "  Front-End Web Developer      1105\n",
       " Game Developer                1028\n",
       "   Data Scientist               995\n",
       "   User Experience Designer     966\n",
       " Information Security           873\n",
       " Data Engineer                  838\n",
       "Back-End Web Developer          686\n",
       "   DevOps / SysAdmin            633\n",
       "   Product Manager              531\n",
       "  Mobile Developer              500\n",
       "Name: value, dtype: int64"
      ]
     },
     "execution_count": 12,
     "metadata": {},
     "output_type": "execute_result"
    }
   ],
   "source": [
    "melted_db['value'].value_counts().head(15)"
   ]
  },
  {
   "cell_type": "markdown",
   "metadata": {},
   "source": [
    "Too much whitespaces, let's get rid of them"
   ]
  },
  {
   "cell_type": "code",
   "execution_count": 13,
   "metadata": {},
   "outputs": [],
   "source": [
    "melted_db['value'] = melted_db['value'].str.strip()"
   ]
  },
  {
   "cell_type": "code",
   "execution_count": 14,
   "metadata": {
    "scrolled": true
   },
   "outputs": [
    {
     "data": {
      "text/plain": [
       "Full-Stack Web Developer    3783\n",
       "Front-End Web Developer     3151\n",
       "Back-End Web Developer      2496\n",
       "Mobile Developer            2031\n",
       "Data Scientist              1460\n",
       "                            ... \n",
       "Not Sure                       1\n",
       "Robotics and AI Engineer       1\n",
       "Software Specialist            1\n",
       "idk                            1\n",
       "IT specialist                  1\n",
       "Name: value, Length: 187, dtype: int64"
      ]
     },
     "execution_count": 14,
     "metadata": {},
     "output_type": "execute_result"
    }
   ],
   "source": [
    "melted_db['value'].value_counts()"
   ]
  },
  {
   "cell_type": "markdown",
   "metadata": {},
   "source": [
    "Much better, but there are many jobs with less that 10 mentions. Let's group them to \"Others\""
   ]
  },
  {
   "cell_type": "code",
   "execution_count": 15,
   "metadata": {},
   "outputs": [
    {
     "data": {
      "text/plain": [
       "['Full-Stack Web Developer',\n",
       " 'Front-End Web Developer',\n",
       " 'Back-End Web Developer',\n",
       " 'Mobile Developer',\n",
       " 'Data Scientist',\n",
       " 'Game Developer',\n",
       " 'User Experience Designer',\n",
       " 'Information Security',\n",
       " 'Data Engineer',\n",
       " 'DevOps / SysAdmin',\n",
       " 'Product Manager',\n",
       " 'Quality Assurance Engineer']"
      ]
     },
     "execution_count": 15,
     "metadata": {},
     "output_type": "execute_result"
    }
   ],
   "source": [
    "frequencies = melted_db['value'].value_counts().head(12)\n",
    "job_list = list(frequencies.index)\n",
    "job_list"
   ]
  },
  {
   "cell_type": "code",
   "execution_count": 16,
   "metadata": {},
   "outputs": [],
   "source": [
    "melted_db['value'] = melted_db['value'].apply(lambda x: x if x in job_list else 'Others')"
   ]
  },
  {
   "cell_type": "code",
   "execution_count": 17,
   "metadata": {
    "scrolled": true
   },
   "outputs": [
    {
     "data": {
      "text/plain": [
       "Full-Stack Web Developer      18.780718\n",
       "Front-End Web Developer       15.643151\n",
       "Back-End Web Developer        12.391401\n",
       "Mobile Developer              10.082907\n",
       "Data Scientist                 7.248176\n",
       "Game Developer                 7.153850\n",
       "User Experience Designer       6.483642\n",
       "Information Security           5.783647\n",
       "Data Engineer                  5.500670\n",
       "DevOps / SysAdmin              4.160254\n",
       "Product Manager                3.564514\n",
       "Quality Assurance Engineer     2.149630\n",
       "Others                         1.057439\n",
       "Name: value, dtype: float64"
      ]
     },
     "execution_count": 17,
     "metadata": {},
     "output_type": "execute_result"
    }
   ],
   "source": [
    "(melted_db['value'].value_counts(normalize=True) * 100).head(20)"
   ]
  },
  {
   "cell_type": "markdown",
   "metadata": {},
   "source": [
    "# Analizing job interests"
   ]
  },
  {
   "cell_type": "markdown",
   "metadata": {},
   "source": [
    "It is likely that the more interesting the job is, the earlier it is mentioned. Let's see if a trend will change if we take only first three jobs for every participant"
   ]
  },
  {
   "cell_type": "code",
   "execution_count": 18,
   "metadata": {},
   "outputs": [
    {
     "data": {
      "text/plain": [
       "Full-Stack Web Developer      20.988269\n",
       "Front-End Web Developer       16.885887\n",
       "Back-End Web Developer        12.264486\n",
       "Mobile Developer               9.662282\n",
       "Data Scientist                 7.095627\n",
       "Game Developer                 7.017419\n",
       "User Experience Designer       6.142908\n",
       "Information Security           5.311056\n",
       "Data Engineer                  4.820476\n",
       "DevOps / SysAdmin              3.618912\n",
       "Product Manager                3.448276\n",
       "Quality Assurance Engineer     1.770352\n",
       "Others                         0.974049\n",
       "Name: value, dtype: float64"
      ]
     },
     "execution_count": 18,
     "metadata": {},
     "output_type": "execute_result"
    }
   ],
   "source": [
    "(melted_db[melted_db['mention_num'] < 3]['value'].value_counts(normalize=True) * 100).head(20)"
   ]
  },
  {
   "cell_type": "markdown",
   "metadata": {},
   "source": [
    "Generally, results are the same, so we'll use extended version with all jobs preferences"
   ]
  },
  {
   "cell_type": "code",
   "execution_count": 19,
   "metadata": {},
   "outputs": [
    {
     "data": {
      "image/png": "[encoded data removed]",
      "text/plain": [
       "<Figure size 432x288 with 1 Axes>"
      ]
     },
     "metadata": {
      "needs_background": "light"
     },
     "output_type": "display_data"
    }
   ],
   "source": [
    "melted_db['value'].value_counts().sort_values().plot.barh()\n",
    "plt.show()"
   ]
  },
  {
   "cell_type": "markdown",
   "metadata": {},
   "source": [
    "We see that the most participants are interested in web and mobile development. Exactly what we are selling most.\n",
    "\n",
    "We can't use our **melted_db** data set for analizing countries, as there can be multiple rows for every respondent if they gave multiple answers about job inerests, so we'll return to the **relevant_data** data set"
   ]
  },
  {
   "cell_type": "markdown",
   "metadata": {},
   "source": [
    "# Finding the best countries"
   ]
  },
  {
   "cell_type": "code",
   "execution_count": 20,
   "metadata": {
    "scrolled": true
   },
   "outputs": [
    {
     "data": {
      "text/plain": [
       "United States of America    2933\n",
       "India                        463\n",
       "United Kingdom               279\n",
       "Canada                       240\n",
       "Poland                       122\n",
       "Germany                      114\n",
       "Brazil                       111\n",
       "Australia                    102\n",
       "Ukraine                       79\n",
       "Russia                        79\n",
       "Name: country, dtype: int64"
      ]
     },
     "execution_count": 20,
     "metadata": {},
     "output_type": "execute_result"
    }
   ],
   "source": [
    "relevant_data['country'].value_counts().head(10)"
   ]
  },
  {
   "cell_type": "code",
   "execution_count": 21,
   "metadata": {
    "scrolled": false
   },
   "outputs": [
    {
     "data": {
      "image/png": "[encoded data removed]",
      "text/plain": [
       "<Figure size 432x288 with 1 Axes>"
      ]
     },
     "metadata": {
      "needs_background": "light"
     },
     "output_type": "display_data"
    }
   ],
   "source": [
    "relevant_data['country'].value_counts().sort_values().tail(10).plot.barh()\n",
    "plt.show()"
   ]
  },
  {
   "cell_type": "markdown",
   "metadata": {},
   "source": [
    "It seems obvious that USA and India are the biggest markets. But we must figure out the participants' intention to pay for education. Advertising within markets where most people are only willing to learn for free is extremely unlikely to be profitable for us.\n",
    "\n",
    "The **MoneyForLearning** column describes in American dollars the amount of money spent by participants from the moment they started coding until the moment they completed the survey. Our company sells subscriptions at a price of $59 per month, and for this reason we're interested in finding out how much money each student spends per month.\n",
    "\n",
    "It also seems like a good idea to narrow down our analysis to only four countries: the US, India, the United Kingdom, and Canada. Two reasons for this decision are:\n",
    "\n",
    "* These are the countries having the highest absolute frequencies in our sample, which means we have a decent amount of data for each.\n",
    "* \n",
    "Our courses are written in English, and English is an official language in all these four countries. The more people that know English, the better our chances to target the right people with our ads."
   ]
  },
  {
   "cell_type": "markdown",
   "metadata": {},
   "source": [
    "# Taking top 4 countries"
   ]
  },
  {
   "cell_type": "code",
   "execution_count": 22,
   "metadata": {
    "scrolled": true
   },
   "outputs": [
    {
     "data": {
      "text/plain": [
       "United States of America    2933\n",
       "India                        463\n",
       "United Kingdom               279\n",
       "Canada                       240\n",
       "Name: country, dtype: int64"
      ]
     },
     "execution_count": 22,
     "metadata": {},
     "output_type": "execute_result"
    }
   ],
   "source": [
    "countries = ['United States of America', 'India', 'United Kingdom', 'Canada']\n",
    "relevant_data = relevant_data[relevant_data['country'].isin(countries)]\n",
    "relevant_data['country'].value_counts()"
   ]
  },
  {
   "cell_type": "markdown",
   "metadata": {},
   "source": [
    "# Cleaning \"months programming\""
   ]
  },
  {
   "cell_type": "code",
   "execution_count": 23,
   "metadata": {},
   "outputs": [
    {
     "name": "stdout",
     "output_type": "stream",
     "text": [
      "0\n",
      "146\n"
     ]
    }
   ],
   "source": [
    "print(relevant_data['months_programming'].isnull().sum())\n",
    "print((relevant_data['months_programming'] == 0).sum())"
   ]
  },
  {
   "cell_type": "code",
   "execution_count": 24,
   "metadata": {},
   "outputs": [],
   "source": [
    "relevant_data.loc[(relevant_data['months_programming'] == 0), 'months_programming'] = 1"
   ]
  },
  {
   "cell_type": "code",
   "execution_count": 25,
   "metadata": {
    "scrolled": true
   },
   "outputs": [
    {
     "name": "stdout",
     "output_type": "stream",
     "text": [
      "0\n",
      "0\n"
     ]
    }
   ],
   "source": [
    "print(relevant_data['months_programming'].isnull().sum())\n",
    "print((relevant_data['months_programming'] == 0).sum())"
   ]
  },
  {
   "cell_type": "markdown",
   "metadata": {},
   "source": [
    "# Calculating money per month"
   ]
  },
  {
   "cell_type": "code",
   "execution_count": 26,
   "metadata": {},
   "outputs": [],
   "source": [
    "relevant_data['spent_per_month'] = relevant_data['money_for_learning'] / relevant_data['months_programming']"
   ]
  },
  {
   "cell_type": "markdown",
   "metadata": {},
   "source": [
    "We'll take only those who already spent some money for learning. But there is a trick:\n",
    ">### We are suggested by Dataquest to delete only rows with Null values in **'spent_per_month'** to take only participants who spent at least something. \n",
    ">\n",
    ">### It is wrong because '0' values still stays. I'll show the consequences of this below"
   ]
  },
  {
   "cell_type": "code",
   "execution_count": 27,
   "metadata": {},
   "outputs": [
    {
     "name": "stdout",
     "output_type": "stream",
     "text": [
      "0\n"
     ]
    },
    {
     "data": {
      "text/plain": [
       "1844"
      ]
     },
     "execution_count": 27,
     "metadata": {},
     "output_type": "execute_result"
    }
   ],
   "source": [
    "print(relevant_data['spent_per_month'].isnull().sum())\n",
    "(relevant_data['spent_per_month'] == 0).sum()"
   ]
  },
  {
   "cell_type": "code",
   "execution_count": 28,
   "metadata": {},
   "outputs": [],
   "source": [
    "relevant_data_without_zeroes = relevant_data[relevant_data['spent_per_month'] != 0]\n",
    "relevant_data_with_zeroes = relevant_data[relevant_data['spent_per_month'].notnull()]"
   ]
  },
  {
   "cell_type": "code",
   "execution_count": 29,
   "metadata": {},
   "outputs": [
    {
     "data": {
      "text/plain": [
       "United States of America    2933\n",
       "India                        463\n",
       "United Kingdom               279\n",
       "Canada                       240\n",
       "Name: country, dtype: int64"
      ]
     },
     "execution_count": 29,
     "metadata": {},
     "output_type": "execute_result"
    }
   ],
   "source": [
    "relevant_data_with_zeroes['country'].value_counts().head()"
   ]
  },
  {
   "cell_type": "code",
   "execution_count": 30,
   "metadata": {
    "scrolled": true
   },
   "outputs": [
    {
     "data": {
      "text/plain": [
       "United States of America    1619\n",
       "India                        201\n",
       "United Kingdom               137\n",
       "Canada                       114\n",
       "Name: country, dtype: int64"
      ]
     },
     "execution_count": 30,
     "metadata": {},
     "output_type": "execute_result"
    }
   ],
   "source": [
    "relevant_data_without_zeroes['country'].value_counts().head()"
   ]
  },
  {
   "cell_type": "markdown",
   "metadata": {},
   "source": [
    "# Analizing results"
   ]
  },
  {
   "cell_type": "code",
   "execution_count": 31,
   "metadata": {
    "scrolled": true
   },
   "outputs": [
    {
     "data": {
      "text/html": [
       "<div>\n",
       "<style scoped>\n",
       "    .dataframe tbody tr th:only-of-type {\n",
       "        vertical-align: middle;\n",
       "    }\n",
       "\n",
       "    .dataframe tbody tr th {\n",
       "        vertical-align: top;\n",
       "    }\n",
       "\n",
       "    .dataframe thead th {\n",
       "        text-align: right;\n",
       "    }\n",
       "</style>\n",
       "<table border=\"1\" class=\"dataframe\">\n",
       "  <thead>\n",
       "    <tr style=\"text-align: right;\">\n",
       "      <th></th>\n",
       "      <th>count</th>\n",
       "      <th>mean</th>\n",
       "      <th>std</th>\n",
       "      <th>min</th>\n",
       "      <th>25%</th>\n",
       "      <th>50%</th>\n",
       "      <th>75%</th>\n",
       "      <th>max</th>\n",
       "    </tr>\n",
       "    <tr>\n",
       "      <th>country</th>\n",
       "      <th></th>\n",
       "      <th></th>\n",
       "      <th></th>\n",
       "      <th></th>\n",
       "      <th></th>\n",
       "      <th></th>\n",
       "      <th></th>\n",
       "      <th></th>\n",
       "    </tr>\n",
       "  </thead>\n",
       "  <tbody>\n",
       "    <tr>\n",
       "      <th>Canada</th>\n",
       "      <td>240.0</td>\n",
       "      <td>113.510961</td>\n",
       "      <td>441.014158</td>\n",
       "      <td>0.0</td>\n",
       "      <td>0.0</td>\n",
       "      <td>0.000000</td>\n",
       "      <td>25.000000</td>\n",
       "      <td>5000.0</td>\n",
       "    </tr>\n",
       "    <tr>\n",
       "      <th>India</th>\n",
       "      <td>463.0</td>\n",
       "      <td>135.100982</td>\n",
       "      <td>692.960378</td>\n",
       "      <td>0.0</td>\n",
       "      <td>0.0</td>\n",
       "      <td>0.000000</td>\n",
       "      <td>13.250000</td>\n",
       "      <td>10000.0</td>\n",
       "    </tr>\n",
       "    <tr>\n",
       "      <th>United Kingdom</th>\n",
       "      <td>279.0</td>\n",
       "      <td>45.534443</td>\n",
       "      <td>162.311836</td>\n",
       "      <td>0.0</td>\n",
       "      <td>0.0</td>\n",
       "      <td>0.000000</td>\n",
       "      <td>20.416667</td>\n",
       "      <td>1400.0</td>\n",
       "    </tr>\n",
       "    <tr>\n",
       "      <th>United States of America</th>\n",
       "      <td>2933.0</td>\n",
       "      <td>227.997996</td>\n",
       "      <td>1940.245614</td>\n",
       "      <td>0.0</td>\n",
       "      <td>0.0</td>\n",
       "      <td>3.333333</td>\n",
       "      <td>50.000000</td>\n",
       "      <td>80000.0</td>\n",
       "    </tr>\n",
       "  </tbody>\n",
       "</table>\n",
       "</div>"
      ],
      "text/plain": [
       "                           count        mean          std  min  25%       50%  \\\n",
       "country                                                                         \n",
       "Canada                     240.0  113.510961   441.014158  0.0  0.0  0.000000   \n",
       "India                      463.0  135.100982   692.960378  0.0  0.0  0.000000   \n",
       "United Kingdom             279.0   45.534443   162.311836  0.0  0.0  0.000000   \n",
       "United States of America  2933.0  227.997996  1940.245614  0.0  0.0  3.333333   \n",
       "\n",
       "                                75%      max  \n",
       "country                                       \n",
       "Canada                    25.000000   5000.0  \n",
       "India                     13.250000  10000.0  \n",
       "United Kingdom            20.416667   1400.0  \n",
       "United States of America  50.000000  80000.0  "
      ]
     },
     "execution_count": 31,
     "metadata": {},
     "output_type": "execute_result"
    }
   ],
   "source": [
    "relevant_data_with_zeroes.groupby('country')['spent_per_month'].describe()"
   ]
  },
  {
   "cell_type": "code",
   "execution_count": 32,
   "metadata": {},
   "outputs": [
    {
     "data": {
      "text/html": [
       "<div>\n",
       "<style scoped>\n",
       "    .dataframe tbody tr th:only-of-type {\n",
       "        vertical-align: middle;\n",
       "    }\n",
       "\n",
       "    .dataframe tbody tr th {\n",
       "        vertical-align: top;\n",
       "    }\n",
       "\n",
       "    .dataframe thead th {\n",
       "        text-align: right;\n",
       "    }\n",
       "</style>\n",
       "<table border=\"1\" class=\"dataframe\">\n",
       "  <thead>\n",
       "    <tr style=\"text-align: right;\">\n",
       "      <th></th>\n",
       "      <th>count</th>\n",
       "      <th>mean</th>\n",
       "      <th>std</th>\n",
       "      <th>min</th>\n",
       "      <th>25%</th>\n",
       "      <th>50%</th>\n",
       "      <th>75%</th>\n",
       "      <th>max</th>\n",
       "    </tr>\n",
       "    <tr>\n",
       "      <th>country</th>\n",
       "      <th></th>\n",
       "      <th></th>\n",
       "      <th></th>\n",
       "      <th></th>\n",
       "      <th></th>\n",
       "      <th></th>\n",
       "      <th></th>\n",
       "      <th></th>\n",
       "    </tr>\n",
       "  </thead>\n",
       "  <tbody>\n",
       "    <tr>\n",
       "      <th>Canada</th>\n",
       "      <td>114.0</td>\n",
       "      <td>238.970444</td>\n",
       "      <td>617.345854</td>\n",
       "      <td>0.416667</td>\n",
       "      <td>8.333333</td>\n",
       "      <td>25.000000</td>\n",
       "      <td>131.250000</td>\n",
       "      <td>5000.0</td>\n",
       "    </tr>\n",
       "    <tr>\n",
       "      <th>India</th>\n",
       "      <td>201.0</td>\n",
       "      <td>311.202759</td>\n",
       "      <td>1026.728280</td>\n",
       "      <td>0.138889</td>\n",
       "      <td>5.500000</td>\n",
       "      <td>20.000000</td>\n",
       "      <td>133.333333</td>\n",
       "      <td>10000.0</td>\n",
       "    </tr>\n",
       "    <tr>\n",
       "      <th>United Kingdom</th>\n",
       "      <td>137.0</td>\n",
       "      <td>92.730727</td>\n",
       "      <td>222.359671</td>\n",
       "      <td>0.050000</td>\n",
       "      <td>8.333333</td>\n",
       "      <td>20.833333</td>\n",
       "      <td>66.666667</td>\n",
       "      <td>1400.0</td>\n",
       "    </tr>\n",
       "    <tr>\n",
       "      <th>United States of America</th>\n",
       "      <td>1619.0</td>\n",
       "      <td>413.043929</td>\n",
       "      <td>2597.175174</td>\n",
       "      <td>0.033333</td>\n",
       "      <td>10.000000</td>\n",
       "      <td>33.333333</td>\n",
       "      <td>166.666667</td>\n",
       "      <td>80000.0</td>\n",
       "    </tr>\n",
       "  </tbody>\n",
       "</table>\n",
       "</div>"
      ],
      "text/plain": [
       "                           count        mean          std       min  \\\n",
       "country                                                               \n",
       "Canada                     114.0  238.970444   617.345854  0.416667   \n",
       "India                      201.0  311.202759  1026.728280  0.138889   \n",
       "United Kingdom             137.0   92.730727   222.359671  0.050000   \n",
       "United States of America  1619.0  413.043929  2597.175174  0.033333   \n",
       "\n",
       "                                25%        50%         75%      max  \n",
       "country                                                              \n",
       "Canada                     8.333333  25.000000  131.250000   5000.0  \n",
       "India                      5.500000  20.000000  133.333333  10000.0  \n",
       "United Kingdom             8.333333  20.833333   66.666667   1400.0  \n",
       "United States of America  10.000000  33.333333  166.666667  80000.0  "
      ]
     },
     "execution_count": 32,
     "metadata": {},
     "output_type": "execute_result"
    }
   ],
   "source": [
    "relevant_data_without_zeroes.groupby('country')['spent_per_month'].describe()"
   ]
  },
  {
   "cell_type": "markdown",
   "metadata": {},
   "source": [
    "Let's have a look on means in isolation"
   ]
  },
  {
   "cell_type": "code",
   "execution_count": 33,
   "metadata": {},
   "outputs": [
    {
     "data": {
      "text/html": [
       "<div>\n",
       "<style scoped>\n",
       "    .dataframe tbody tr th:only-of-type {\n",
       "        vertical-align: middle;\n",
       "    }\n",
       "\n",
       "    .dataframe tbody tr th {\n",
       "        vertical-align: top;\n",
       "    }\n",
       "\n",
       "    .dataframe thead th {\n",
       "        text-align: right;\n",
       "    }\n",
       "</style>\n",
       "<table border=\"1\" class=\"dataframe\">\n",
       "  <thead>\n",
       "    <tr style=\"text-align: right;\">\n",
       "      <th></th>\n",
       "      <th>Means_with_zeroes</th>\n",
       "      <th>Means_without_zeroes</th>\n",
       "    </tr>\n",
       "    <tr>\n",
       "      <th>country</th>\n",
       "      <th></th>\n",
       "      <th></th>\n",
       "    </tr>\n",
       "  </thead>\n",
       "  <tbody>\n",
       "    <tr>\n",
       "      <th>Canada</th>\n",
       "      <td>113.510961</td>\n",
       "      <td>238.970444</td>\n",
       "    </tr>\n",
       "    <tr>\n",
       "      <th>India</th>\n",
       "      <td>135.100982</td>\n",
       "      <td>311.202759</td>\n",
       "    </tr>\n",
       "    <tr>\n",
       "      <th>United Kingdom</th>\n",
       "      <td>45.534443</td>\n",
       "      <td>92.730727</td>\n",
       "    </tr>\n",
       "    <tr>\n",
       "      <th>United States of America</th>\n",
       "      <td>227.997996</td>\n",
       "      <td>413.043929</td>\n",
       "    </tr>\n",
       "  </tbody>\n",
       "</table>\n",
       "</div>"
      ],
      "text/plain": [
       "                          Means_with_zeroes  Means_without_zeroes\n",
       "country                                                          \n",
       "Canada                           113.510961            238.970444\n",
       "India                            135.100982            311.202759\n",
       "United Kingdom                    45.534443             92.730727\n",
       "United States of America         227.997996            413.043929"
      ]
     },
     "execution_count": 33,
     "metadata": {},
     "output_type": "execute_result"
    }
   ],
   "source": [
    "means_with_zeroes = relevant_data_with_zeroes.groupby('country')['spent_per_month'].mean()\n",
    "means_without_zeroes = relevant_data_without_zeroes.groupby('country')['spent_per_month'].mean()\n",
    "\n",
    "pd.DataFrame(data = {'Means_with_zeroes': means_with_zeroes,\n",
    "                     'Means_without_zeroes': means_without_zeroes})"
   ]
  },
  {
   "cell_type": "markdown",
   "metadata": {},
   "source": [
    "It looks like \"0\" values that we have left change everything!\n",
    "\n",
    "Also, we see there are many outliers (look at the huge difference between 75 percentile and maximum) so the **mean** is not too representative in this case.\n",
    "But surprisingly we are suggested by DataQuest to use it\n",
    "\n",
    "Let's see how the averages will change if we take the **median** instead"
   ]
  },
  {
   "cell_type": "code",
   "execution_count": 34,
   "metadata": {},
   "outputs": [
    {
     "data": {
      "text/html": [
       "<div>\n",
       "<style scoped>\n",
       "    .dataframe tbody tr th:only-of-type {\n",
       "        vertical-align: middle;\n",
       "    }\n",
       "\n",
       "    .dataframe tbody tr th {\n",
       "        vertical-align: top;\n",
       "    }\n",
       "\n",
       "    .dataframe thead th {\n",
       "        text-align: right;\n",
       "    }\n",
       "</style>\n",
       "<table border=\"1\" class=\"dataframe\">\n",
       "  <thead>\n",
       "    <tr style=\"text-align: right;\">\n",
       "      <th></th>\n",
       "      <th>Medians_with_zeroes</th>\n",
       "      <th>Medians_without_zeroes</th>\n",
       "    </tr>\n",
       "    <tr>\n",
       "      <th>country</th>\n",
       "      <th></th>\n",
       "      <th></th>\n",
       "    </tr>\n",
       "  </thead>\n",
       "  <tbody>\n",
       "    <tr>\n",
       "      <th>Canada</th>\n",
       "      <td>0.000000</td>\n",
       "      <td>25.000000</td>\n",
       "    </tr>\n",
       "    <tr>\n",
       "      <th>India</th>\n",
       "      <td>0.000000</td>\n",
       "      <td>20.000000</td>\n",
       "    </tr>\n",
       "    <tr>\n",
       "      <th>United Kingdom</th>\n",
       "      <td>0.000000</td>\n",
       "      <td>20.833333</td>\n",
       "    </tr>\n",
       "    <tr>\n",
       "      <th>United States of America</th>\n",
       "      <td>3.333333</td>\n",
       "      <td>33.333333</td>\n",
       "    </tr>\n",
       "  </tbody>\n",
       "</table>\n",
       "</div>"
      ],
      "text/plain": [
       "                          Medians_with_zeroes  Medians_without_zeroes\n",
       "country                                                              \n",
       "Canada                               0.000000               25.000000\n",
       "India                                0.000000               20.000000\n",
       "United Kingdom                       0.000000               20.833333\n",
       "United States of America             3.333333               33.333333"
      ]
     },
     "execution_count": 34,
     "metadata": {},
     "output_type": "execute_result"
    }
   ],
   "source": [
    "medians_with_zeroes = relevant_data_with_zeroes.groupby('country')['spent_per_month'].median()\n",
    "medians_without_zeroes = relevant_data_without_zeroes.groupby('country')['spent_per_month'].median()\n",
    "\n",
    "pd.DataFrame(data = {'Medians_with_zeroes': medians_with_zeroes,\n",
    "                     'Medians_without_zeroes': medians_without_zeroes})"
   ]
  },
  {
   "cell_type": "markdown",
   "metadata": {},
   "source": [
    "And again the presence of **'0'** values changes everything and makes the median unuseful. But when we take a properly cleaned data set, the median becomes quite representative.\n",
    "\n",
    "At this stage it should be obvious that rows with \"zeroes\" in **spent_per_month** column must be droped. I will use only properly cleaned data set from now on"
   ]
  },
  {
   "cell_type": "markdown",
   "metadata": {},
   "source": [
    "# Managing outliers"
   ]
  },
  {
   "cell_type": "markdown",
   "metadata": {},
   "source": [
    "We may notice the huge difference between 75th percentile and the maximum value when we analized **spent_per_month**. It seems there are some outliers. Let's visualize it and see"
   ]
  },
  {
   "cell_type": "code",
   "execution_count": 35,
   "metadata": {},
   "outputs": [
    {
     "data": {
      "image/png": "[encoded data removed]",
      "text/plain": [
       "<Figure size 432x288 with 1 Axes>"
      ]
     },
     "metadata": {
      "needs_background": "light"
     },
     "output_type": "display_data"
    }
   ],
   "source": [
    "sns.boxplot(x = 'country',\n",
    "            y = 'spent_per_month', \n",
    "            data = relevant_data_without_zeroes)\n",
    "plt.title('Money Spent Per Month',fontsize = 16)\n",
    "plt.ylabel('Money per month, USD')\n",
    "plt.xlabel('Country')\n",
    "plt.xticks(range(4), ['US', 'UK', 'Canada', 'India'])\n",
    "plt.show()"
   ]
  },
  {
   "cell_type": "markdown",
   "metadata": {},
   "source": [
    "We even can't see boxes. Let's try to cut the furthest outliers and take only values less than 20 000"
   ]
  },
  {
   "cell_type": "code",
   "execution_count": 36,
   "metadata": {
    "scrolled": true
   },
   "outputs": [
    {
     "data": {
      "image/png": "[encoded data removed]",
      "text/plain": [
       "<Figure size 432x288 with 1 Axes>"
      ]
     },
     "metadata": {
      "needs_background": "light"
     },
     "output_type": "display_data"
    }
   ],
   "source": [
    "sns.boxplot(x = 'country',\n",
    "            y = 'spent_per_month', \n",
    "            data = relevant_data_without_zeroes[relevant_data_without_zeroes['spent_per_month']<20000])\n",
    "plt.title('Money Spent Per Month',fontsize = 16)\n",
    "plt.ylabel('Money per month, USD')\n",
    "plt.xlabel('Country')\n",
    "plt.xticks(range(4), ['US', 'UK', 'Canada', 'India'])\n",
    "plt.show()"
   ]
  },
  {
   "cell_type": "markdown",
   "metadata": {},
   "source": [
    "Still quite unclear. The number of outliers can tell us that participants could take into account money spent on primary univercity or bootcamps.\n",
    "\n",
    "Let's try to determine our potential customers as those, who spent between 20 and 200 USD per month and see how it affects on the size of our sample"
   ]
  },
  {
   "cell_type": "code",
   "execution_count": 37,
   "metadata": {},
   "outputs": [],
   "source": [
    "condition = (relevant_data_without_zeroes['spent_per_month'] > 20) & (relevant_data_without_zeroes['spent_per_month'] < 200)"
   ]
  },
  {
   "cell_type": "code",
   "execution_count": 38,
   "metadata": {
    "scrolled": true
   },
   "outputs": [
    {
     "name": "stdout",
     "output_type": "stream",
     "text": [
      "2071\n"
     ]
    },
    {
     "data": {
      "text/plain": [
       "774"
      ]
     },
     "execution_count": 38,
     "metadata": {},
     "output_type": "execute_result"
    }
   ],
   "source": [
    "print(relevant_data_without_zeroes.shape[0])\n",
    "relevant_data_without_zeroes[condition].shape[0]"
   ]
  },
  {
   "cell_type": "markdown",
   "metadata": {},
   "source": [
    "Now we have only one third af the previous sample, but this is the most likely our audience\n",
    "\n",
    "# Visualizing money spent per month"
   ]
  },
  {
   "cell_type": "code",
   "execution_count": 39,
   "metadata": {
    "scrolled": true
   },
   "outputs": [
    {
     "data": {
      "image/png": "[encoded data removed]",
      "text/plain": [
       "<Figure size 432x288 with 1 Axes>"
      ]
     },
     "metadata": {
      "needs_background": "light"
     },
     "output_type": "display_data"
    }
   ],
   "source": [
    "relevant_data_without_zeroes[condition]['spent_per_month'].hist()\n",
    "plt.show()"
   ]
  },
  {
   "cell_type": "markdown",
   "metadata": {},
   "source": [
    "As we have an extremely right skewed distribution we may assume that we have saved the most important data when applying our condition.\n",
    "\n",
    "Let's see how boxplot will work now"
   ]
  },
  {
   "cell_type": "code",
   "execution_count": 40,
   "metadata": {},
   "outputs": [
    {
     "data": {
      "image/png": "[encoded data removed]",
      "text/plain": [
       "<Figure size 432x288 with 1 Axes>"
      ]
     },
     "metadata": {
      "needs_background": "light"
     },
     "output_type": "display_data"
    }
   ],
   "source": [
    "sns.boxplot(x = 'country',\n",
    "            y = 'spent_per_month', \n",
    "            data = relevant_data_without_zeroes[condition])\n",
    "plt.title('Money Spent Per Month',fontsize = 16)\n",
    "plt.ylabel('Money per month, USD')\n",
    "plt.xlabel('Country')\n",
    "plt.xticks(range(4), ['US', 'UK', 'Canada', 'India'])\n",
    "plt.show()"
   ]
  },
  {
   "cell_type": "markdown",
   "metadata": {},
   "source": [
    "Much better now! But before making conclusions let's compare means and medians for each country. Also we must take into account a number of respondents from each country"
   ]
  },
  {
   "cell_type": "markdown",
   "metadata": {},
   "source": [
    "# Making the result table\n"
   ]
  },
  {
   "cell_type": "code",
   "execution_count": 41,
   "metadata": {
    "scrolled": true
   },
   "outputs": [
    {
     "data": {
      "text/html": [
       "<div>\n",
       "<style scoped>\n",
       "    .dataframe tbody tr th:only-of-type {\n",
       "        vertical-align: middle;\n",
       "    }\n",
       "\n",
       "    .dataframe tbody tr th {\n",
       "        vertical-align: top;\n",
       "    }\n",
       "\n",
       "    .dataframe thead th {\n",
       "        text-align: right;\n",
       "    }\n",
       "</style>\n",
       "<table border=\"1\" class=\"dataframe\">\n",
       "  <thead>\n",
       "    <tr style=\"text-align: right;\">\n",
       "      <th></th>\n",
       "      <th>Median</th>\n",
       "      <th>Mean</th>\n",
       "      <th>Num_respondents</th>\n",
       "    </tr>\n",
       "  </thead>\n",
       "  <tbody>\n",
       "    <tr>\n",
       "      <th>Canada</th>\n",
       "      <td>45.833333</td>\n",
       "      <td>58.502976</td>\n",
       "      <td>40</td>\n",
       "    </tr>\n",
       "    <tr>\n",
       "      <th>India</th>\n",
       "      <td>79.916667</td>\n",
       "      <td>88.939039</td>\n",
       "      <td>62</td>\n",
       "    </tr>\n",
       "    <tr>\n",
       "      <th>United Kingdom</th>\n",
       "      <td>60.000000</td>\n",
       "      <td>69.128001</td>\n",
       "      <td>55</td>\n",
       "    </tr>\n",
       "    <tr>\n",
       "      <th>United States of America</th>\n",
       "      <td>51.111111</td>\n",
       "      <td>68.857456</td>\n",
       "      <td>617</td>\n",
       "    </tr>\n",
       "  </tbody>\n",
       "</table>\n",
       "</div>"
      ],
      "text/plain": [
       "                             Median       Mean  Num_respondents\n",
       "Canada                    45.833333  58.502976               40\n",
       "India                     79.916667  88.939039               62\n",
       "United Kingdom            60.000000  69.128001               55\n",
       "United States of America  51.111111  68.857456              617"
      ]
     },
     "execution_count": 41,
     "metadata": {},
     "output_type": "execute_result"
    }
   ],
   "source": [
    "medians = relevant_data_without_zeroes[condition].groupby('country')['spent_per_month'].median()\n",
    "means = relevant_data_without_zeroes[condition].groupby('country')['spent_per_month'].mean()\n",
    "num_respondents = relevant_data_without_zeroes[condition]['country'].value_counts()\n",
    "results_df = pd.DataFrame(data = {'Median': medians,\n",
    "                                  'Mean': means,\n",
    "                                  'Num_respondents': num_respondents})\n",
    "results_df"
   ]
  },
  {
   "cell_type": "markdown",
   "metadata": {},
   "source": [
    "Now we are going to think which measure represents the distribution best. I assume, it is the mean, because we've left only those who spent more than 20 USD and less than 200 per month. So it is more important to take the weight of every value into account, than to avoid outliers.\n",
    "\n",
    "We'll also round the values of means"
   ]
  },
  {
   "cell_type": "code",
   "execution_count": 42,
   "metadata": {
    "scrolled": true
   },
   "outputs": [],
   "source": [
    "results_df.drop(columns = 'Median', inplace = True)\n",
    "results_df['Mean'] = round((results_df['Mean']),0).astype('int')"
   ]
  },
  {
   "cell_type": "code",
   "execution_count": 43,
   "metadata": {},
   "outputs": [
    {
     "data": {
      "text/html": [
       "<div>\n",
       "<style scoped>\n",
       "    .dataframe tbody tr th:only-of-type {\n",
       "        vertical-align: middle;\n",
       "    }\n",
       "\n",
       "    .dataframe tbody tr th {\n",
       "        vertical-align: top;\n",
       "    }\n",
       "\n",
       "    .dataframe thead th {\n",
       "        text-align: right;\n",
       "    }\n",
       "</style>\n",
       "<table border=\"1\" class=\"dataframe\">\n",
       "  <thead>\n",
       "    <tr style=\"text-align: right;\">\n",
       "      <th></th>\n",
       "      <th>index</th>\n",
       "      <th>Mean</th>\n",
       "      <th>Num_respondents</th>\n",
       "    </tr>\n",
       "  </thead>\n",
       "  <tbody>\n",
       "    <tr>\n",
       "      <th>0</th>\n",
       "      <td>Canada</td>\n",
       "      <td>59</td>\n",
       "      <td>40</td>\n",
       "    </tr>\n",
       "    <tr>\n",
       "      <th>1</th>\n",
       "      <td>India</td>\n",
       "      <td>89</td>\n",
       "      <td>62</td>\n",
       "    </tr>\n",
       "    <tr>\n",
       "      <th>2</th>\n",
       "      <td>United Kingdom</td>\n",
       "      <td>69</td>\n",
       "      <td>55</td>\n",
       "    </tr>\n",
       "    <tr>\n",
       "      <th>3</th>\n",
       "      <td>United States of America</td>\n",
       "      <td>69</td>\n",
       "      <td>617</td>\n",
       "    </tr>\n",
       "  </tbody>\n",
       "</table>\n",
       "</div>"
      ],
      "text/plain": [
       "                      index  Mean  Num_respondents\n",
       "0                    Canada    59               40\n",
       "1                     India    89               62\n",
       "2            United Kingdom    69               55\n",
       "3  United States of America    69              617"
      ]
     },
     "execution_count": 43,
     "metadata": {},
     "output_type": "execute_result"
    }
   ],
   "source": [
    "results_df.reset_index(inplace=True)\n",
    "results_df"
   ]
  },
  {
   "cell_type": "markdown",
   "metadata": {},
   "source": [
    "# Visualizing results\n",
    "\n",
    "Infortunately, **seaborn.relplot** is unavaliable, so we'll make a simple graph using matplotlib"
   ]
  },
  {
   "cell_type": "code",
   "execution_count": 44,
   "metadata": {
    "scrolled": true
   },
   "outputs": [
    {
     "data": {
      "image/png": "[encoded data removed]",
      "text/plain": [
       "<Figure size 720x288 with 1 Axes>"
      ]
     },
     "metadata": {
      "needs_background": "light"
     },
     "output_type": "display_data"
    }
   ],
   "source": [
    "plt.figure(figsize = (10, 4))\n",
    "plt.title('Average sums spent per month in top-4 countries', fontsize = 20)\n",
    "\n",
    "plt.scatter(results_df['Num_respondents'],\n",
    "            results_df['Mean'],\n",
    "            s=100)\n",
    "        \n",
    "plt.text(60, 60, 'Canada', fontsize = 15)\n",
    "plt.text(71, 71, 'UK', fontsize = 15)\n",
    "plt.text(75, 90, 'India', fontsize = 15)\n",
    "plt.text(620, 72, 'USA', fontsize = 15)\n",
    "\n",
    "plt.ylabel('Money spent per month, USD')\n",
    "plt.xlabel('Number of respondents')\n",
    "\n",
    "\n",
    "plt.show()"
   ]
  },
  {
   "cell_type": "markdown",
   "metadata": {},
   "source": [
    "## Conclusion\n",
    "To be honest, all our samples do not represent population for every country, because take into account only those who were involved in the survey. But nevertheless we could share some thoughts with the marketing department.\n",
    "\n",
    "Obviously, the most interesting market for advertizing is USA. As for the second country, we see that number of respondents are almost equal, but in India people on average tend to spend more than in Canada and UK.\n",
    "\n",
    "So I would recommend to invest in USA and India.\n",
    "\n",
    "What is much more important is to always bear in mind what lies behind the numbers we're analizing"
   ]
  }
 ],
 "metadata": {
  "kernelspec": {
   "display_name": "Python 3 (ipykernel)",
   "language": "python",
   "name": "python3"
  },
  "language_info": {
   "codemirror_mode": {
    "name": "ipython",
    "version": 3
   },
   "file_extension": ".py",
   "mimetype": "text/x-python",
   "name": "python",
   "nbconvert_exporter": "python",
   "pygments_lexer": "ipython3",
   "version": "3.9.7"
  }
 },
 "nbformat": 4,
 "nbformat_minor": 2
}
