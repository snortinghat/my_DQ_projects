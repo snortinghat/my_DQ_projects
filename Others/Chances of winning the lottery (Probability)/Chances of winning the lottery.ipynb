{
 "cells": [
  {
   "cell_type": "markdown",
   "metadata": {},
   "source": [
    "# How many chances do you have to win a lottery?\n",
    "\n",
    "In this guided project we are going to estimate chances to win in 6/49 lottery.\n",
    "\n",
    "Three main questions we are going to answer are:\n",
    "1. What is the probability of winning the big prize with a single ticket?\n",
    "2. What is the probability of winning the big prize if we play 40 different tickets (or any other number)?\n",
    "3. What is the probability of having at least five (or four, or three, or two) winning numbers on a single ticket?\n",
    "\n",
    "As a data source we are going to consider data from the national 6/49 lottery game in Canada. It has data for 3665 drawings from 1982 to 2018. The data set could be found [here](https://www.kaggle.com/datascienceai/lottery-dataset)"
   ]
  },
  {
   "cell_type": "markdown",
   "metadata": {},
   "source": [
    "## Basic functions\n",
    "\n",
    "We are going to create 2 basic functions:\n",
    "1. **Factorial** - returns a number of possible outcomes (**permutuals** - where the order of each number matters) for an arrangement of **n-numbers** when sampling without replacing\n",
    "2. **Combinations** - returns a number of possible combinations (the order of each number doesn't matter) for a set of **k-numbers** taken from an arrangement of **n-numbers**"
   ]
  },
  {
   "cell_type": "code",
   "execution_count": 1,
   "metadata": {},
   "outputs": [],
   "source": [
    "def factorial(n):\n",
    "    result = 1\n",
    "    for i in range(n,0,-1):\n",
    "        result *= i\n",
    "    return result\n",
    "\n",
    "def combinations(n,k):\n",
    "    return factorial(n) / (factorial(k) * factorial(n-k))"
   ]
  },
  {
   "cell_type": "markdown",
   "metadata": {},
   "source": [
    "## 1. The probability of winning a prize.\n",
    "It doesn't matter which combination we choose, the probability of winning is being calculated by dividing the number of successful outcomes (always **1**) by the number of all possible outcomes"
   ]
  },
  {
   "cell_type": "code",
   "execution_count": 2,
   "metadata": {},
   "outputs": [
    {
     "name": "stdout",
     "output_type": "stream",
     "text": [
      "The probability of winning in \"6 from 49\" is 0.000007 %\n",
      "In other words, you will win an 1 of 13983816 cases\n"
     ]
    }
   ],
   "source": [
    "num_outcomes = combinations(49,6)\n",
    "p_win = 1 / num_outcomes\n",
    "p_win_percentage = p_win * 100\n",
    "print('''The probability of winning in \"6 from 49\" is {:.6f} %\n",
    "In other words, you will win an 1 of {} cases'''.format(p_win_percentage,\n",
    "                                                        int(num_outcomes)\n",
    "                                                       )\n",
    "     )"
   ]
  },
  {
   "cell_type": "markdown",
   "metadata": {},
   "source": [
    "## Additional task - checking how many times a given combination had won in the past\n",
    "\n",
    "### Exploring the data"
   ]
  },
  {
   "cell_type": "code",
   "execution_count": 3,
   "metadata": {},
   "outputs": [
    {
     "name": "stdout",
     "output_type": "stream",
     "text": [
      "<class 'pandas.core.frame.DataFrame'>\n",
      "RangeIndex: 3665 entries, 0 to 3664\n",
      "Data columns (total 11 columns):\n",
      "PRODUCT            3665 non-null int64\n",
      "DRAW NUMBER        3665 non-null int64\n",
      "SEQUENCE NUMBER    3665 non-null int64\n",
      "DRAW DATE          3665 non-null object\n",
      "NUMBER DRAWN 1     3665 non-null int64\n",
      "NUMBER DRAWN 2     3665 non-null int64\n",
      "NUMBER DRAWN 3     3665 non-null int64\n",
      "NUMBER DRAWN 4     3665 non-null int64\n",
      "NUMBER DRAWN 5     3665 non-null int64\n",
      "NUMBER DRAWN 6     3665 non-null int64\n",
      "BONUS NUMBER       3665 non-null int64\n",
      "dtypes: int64(10), object(1)\n",
      "memory usage: 315.0+ KB\n",
      "None\n"
     ]
    }
   ],
   "source": [
    "import pandas as pd\n",
    "hist_results = pd.read_csv('649.csv')\n",
    "print(hist_results.info())"
   ]
  },
  {
   "cell_type": "code",
   "execution_count": 4,
   "metadata": {},
   "outputs": [
    {
     "data": {
      "text/html": [
       "<div>\n",
       "<style scoped>\n",
       "    .dataframe tbody tr th:only-of-type {\n",
       "        vertical-align: middle;\n",
       "    }\n",
       "\n",
       "    .dataframe tbody tr th {\n",
       "        vertical-align: top;\n",
       "    }\n",
       "\n",
       "    .dataframe thead th {\n",
       "        text-align: right;\n",
       "    }\n",
       "</style>\n",
       "<table border=\"1\" class=\"dataframe\">\n",
       "  <thead>\n",
       "    <tr style=\"text-align: right;\">\n",
       "      <th></th>\n",
       "      <th>PRODUCT</th>\n",
       "      <th>DRAW NUMBER</th>\n",
       "      <th>SEQUENCE NUMBER</th>\n",
       "      <th>DRAW DATE</th>\n",
       "      <th>NUMBER DRAWN 1</th>\n",
       "      <th>NUMBER DRAWN 2</th>\n",
       "      <th>NUMBER DRAWN 3</th>\n",
       "      <th>NUMBER DRAWN 4</th>\n",
       "      <th>NUMBER DRAWN 5</th>\n",
       "      <th>NUMBER DRAWN 6</th>\n",
       "      <th>BONUS NUMBER</th>\n",
       "    </tr>\n",
       "  </thead>\n",
       "  <tbody>\n",
       "    <tr>\n",
       "      <th>0</th>\n",
       "      <td>649</td>\n",
       "      <td>1</td>\n",
       "      <td>0</td>\n",
       "      <td>6/12/1982</td>\n",
       "      <td>3</td>\n",
       "      <td>11</td>\n",
       "      <td>12</td>\n",
       "      <td>14</td>\n",
       "      <td>41</td>\n",
       "      <td>43</td>\n",
       "      <td>13</td>\n",
       "    </tr>\n",
       "    <tr>\n",
       "      <th>1</th>\n",
       "      <td>649</td>\n",
       "      <td>2</td>\n",
       "      <td>0</td>\n",
       "      <td>6/19/1982</td>\n",
       "      <td>8</td>\n",
       "      <td>33</td>\n",
       "      <td>36</td>\n",
       "      <td>37</td>\n",
       "      <td>39</td>\n",
       "      <td>41</td>\n",
       "      <td>9</td>\n",
       "    </tr>\n",
       "    <tr>\n",
       "      <th>2</th>\n",
       "      <td>649</td>\n",
       "      <td>3</td>\n",
       "      <td>0</td>\n",
       "      <td>6/26/1982</td>\n",
       "      <td>1</td>\n",
       "      <td>6</td>\n",
       "      <td>23</td>\n",
       "      <td>24</td>\n",
       "      <td>27</td>\n",
       "      <td>39</td>\n",
       "      <td>34</td>\n",
       "    </tr>\n",
       "  </tbody>\n",
       "</table>\n",
       "</div>"
      ],
      "text/plain": [
       "   PRODUCT  DRAW NUMBER  SEQUENCE NUMBER  DRAW DATE  NUMBER DRAWN 1  \\\n",
       "0      649            1                0  6/12/1982               3   \n",
       "1      649            2                0  6/19/1982               8   \n",
       "2      649            3                0  6/26/1982               1   \n",
       "\n",
       "   NUMBER DRAWN 2  NUMBER DRAWN 3  NUMBER DRAWN 4  NUMBER DRAWN 5  \\\n",
       "0              11              12              14              41   \n",
       "1              33              36              37              39   \n",
       "2               6              23              24              27   \n",
       "\n",
       "   NUMBER DRAWN 6  BONUS NUMBER  \n",
       "0              43            13  \n",
       "1              41             9  \n",
       "2              39            34  "
      ]
     },
     "execution_count": 4,
     "metadata": {},
     "output_type": "execute_result"
    }
   ],
   "source": [
    "hist_results.head(3)"
   ]
  },
  {
   "cell_type": "code",
   "execution_count": 5,
   "metadata": {},
   "outputs": [
    {
     "data": {
      "text/html": [
       "<div>\n",
       "<style scoped>\n",
       "    .dataframe tbody tr th:only-of-type {\n",
       "        vertical-align: middle;\n",
       "    }\n",
       "\n",
       "    .dataframe tbody tr th {\n",
       "        vertical-align: top;\n",
       "    }\n",
       "\n",
       "    .dataframe thead th {\n",
       "        text-align: right;\n",
       "    }\n",
       "</style>\n",
       "<table border=\"1\" class=\"dataframe\">\n",
       "  <thead>\n",
       "    <tr style=\"text-align: right;\">\n",
       "      <th></th>\n",
       "      <th>PRODUCT</th>\n",
       "      <th>DRAW NUMBER</th>\n",
       "      <th>SEQUENCE NUMBER</th>\n",
       "      <th>DRAW DATE</th>\n",
       "      <th>NUMBER DRAWN 1</th>\n",
       "      <th>NUMBER DRAWN 2</th>\n",
       "      <th>NUMBER DRAWN 3</th>\n",
       "      <th>NUMBER DRAWN 4</th>\n",
       "      <th>NUMBER DRAWN 5</th>\n",
       "      <th>NUMBER DRAWN 6</th>\n",
       "      <th>BONUS NUMBER</th>\n",
       "    </tr>\n",
       "  </thead>\n",
       "  <tbody>\n",
       "    <tr>\n",
       "      <th>3662</th>\n",
       "      <td>649</td>\n",
       "      <td>3589</td>\n",
       "      <td>0</td>\n",
       "      <td>6/13/2018</td>\n",
       "      <td>6</td>\n",
       "      <td>22</td>\n",
       "      <td>24</td>\n",
       "      <td>31</td>\n",
       "      <td>32</td>\n",
       "      <td>34</td>\n",
       "      <td>16</td>\n",
       "    </tr>\n",
       "    <tr>\n",
       "      <th>3663</th>\n",
       "      <td>649</td>\n",
       "      <td>3590</td>\n",
       "      <td>0</td>\n",
       "      <td>6/16/2018</td>\n",
       "      <td>2</td>\n",
       "      <td>15</td>\n",
       "      <td>21</td>\n",
       "      <td>31</td>\n",
       "      <td>38</td>\n",
       "      <td>49</td>\n",
       "      <td>8</td>\n",
       "    </tr>\n",
       "    <tr>\n",
       "      <th>3664</th>\n",
       "      <td>649</td>\n",
       "      <td>3591</td>\n",
       "      <td>0</td>\n",
       "      <td>6/20/2018</td>\n",
       "      <td>14</td>\n",
       "      <td>24</td>\n",
       "      <td>31</td>\n",
       "      <td>35</td>\n",
       "      <td>37</td>\n",
       "      <td>48</td>\n",
       "      <td>17</td>\n",
       "    </tr>\n",
       "  </tbody>\n",
       "</table>\n",
       "</div>"
      ],
      "text/plain": [
       "      PRODUCT  DRAW NUMBER  SEQUENCE NUMBER  DRAW DATE  NUMBER DRAWN 1  \\\n",
       "3662      649         3589                0  6/13/2018               6   \n",
       "3663      649         3590                0  6/16/2018               2   \n",
       "3664      649         3591                0  6/20/2018              14   \n",
       "\n",
       "      NUMBER DRAWN 2  NUMBER DRAWN 3  NUMBER DRAWN 4  NUMBER DRAWN 5  \\\n",
       "3662              22              24              31              32   \n",
       "3663              15              21              31              38   \n",
       "3664              24              31              35              37   \n",
       "\n",
       "      NUMBER DRAWN 6  BONUS NUMBER  \n",
       "3662              34            16  \n",
       "3663              49             8  \n",
       "3664              48            17  "
      ]
     },
     "execution_count": 5,
     "metadata": {},
     "output_type": "execute_result"
    }
   ],
   "source": [
    "hist_results.tail(3)"
   ]
  },
  {
   "cell_type": "markdown",
   "metadata": {},
   "source": [
    "### Extracting winning sets"
   ]
  },
  {
   "cell_type": "code",
   "execution_count": 6,
   "metadata": {
    "scrolled": true
   },
   "outputs": [
    {
     "data": {
      "text/plain": [
       "0    {3, 41, 11, 12, 43, 14}\n",
       "1    {33, 36, 37, 39, 8, 41}\n",
       "2     {1, 6, 39, 23, 24, 27}\n",
       "dtype: object"
      ]
     },
     "execution_count": 6,
     "metadata": {},
     "output_type": "execute_result"
    }
   ],
   "source": [
    "def extract_numbers(row):\n",
    "    row = row[4:10]\n",
    "    row = set(row.values)\n",
    "    return row\n",
    "\n",
    "winning_sets = hist_results.apply(extract_numbers, axis=1)\n",
    "winning_sets[:3]"
   ]
  },
  {
   "cell_type": "markdown",
   "metadata": {},
   "source": [
    "### Checking historical occurence"
   ]
  },
  {
   "cell_type": "code",
   "execution_count": 7,
   "metadata": {},
   "outputs": [
    {
     "name": "stdout",
     "output_type": "stream",
     "text": [
      "The combination \"{3, 41, 11, 12, 43, 14}\" occured 1 times in the past\n"
     ]
    }
   ],
   "source": [
    "def check_historical_occurence(users_numbers):\n",
    "    users_numbers = set(users_numbers)\n",
    "    matches = 0\n",
    "    for result in winning_sets:\n",
    "        if users_numbers == result:\n",
    "            matches += 1\n",
    "    print('The combination \"{}\" occured {} times in the past'.format(users_numbers, matches)) \n",
    "\n",
    "check_historical_occurence([11, 41, 14, 12, 43,3])"
   ]
  },
  {
   "cell_type": "markdown",
   "metadata": {},
   "source": [
    "## 2. Multi-ticket winning probability\n",
    "Our second goal is to calculate the probability of winning when buying more than one tickets. It is counted by simply multiplying the probability of winning with one ticket by the number of tickets bought."
   ]
  },
  {
   "cell_type": "code",
   "execution_count": 8,
   "metadata": {},
   "outputs": [
    {
     "name": "stdout",
     "output_type": "stream",
     "text": [
      "The probability of winning with 1 tickets is 0.000007 %\n",
      "The probability of winning with 2 tickets is 0.000014 %\n",
      "The probability of winning with 10 tickets is 0.000072 %\n",
      "The probability of winning with 100 tickets is 0.000715 %\n",
      "The probability of winning with 1000 tickets is 0.007151 %\n",
      "The probability of winning with 139839 tickets is 1.000006 %\n"
     ]
    }
   ],
   "source": [
    "def multi_ticket_probability(num_tickets):\n",
    "    num_outcomes = combinations(49,6)\n",
    "    winning_probability = num_tickets / num_outcomes\n",
    "    winning_probability_percentage = winning_probability * 100\n",
    "    print('The probability of winning with {} tickets is {:.6f} %'.format(num_tickets, \n",
    "                                                                          winning_probability_percentage\n",
    "                                                                         ))\n",
    "multi_ticket_probability(1)\n",
    "multi_ticket_probability(2)     \n",
    "multi_ticket_probability(10)     \n",
    "multi_ticket_probability(100)  \n",
    "multi_ticket_probability(1000)     \n",
    "multi_ticket_probability(139839)     "
   ]
  },
  {
   "cell_type": "markdown",
   "metadata": {},
   "source": [
    "# 3. Probability of having at least five (or four, or three, or two) winning numbers on a single ticket"
   ]
  },
  {
   "cell_type": "markdown",
   "metadata": {},
   "source": [
    "## 3.1 Probability of having *exactly* five (or four, or three, or two) winning numbers on a single ticket"
   ]
  },
  {
   "cell_type": "code",
   "execution_count": 9,
   "metadata": {
    "scrolled": true
   },
   "outputs": [
    {
     "name": "stdout",
     "output_type": "stream",
     "text": [
      "The probability of matching exactly 2 out from 6 is 13.2378 %\n",
      "Or 1 chance from 8 \n",
      "\n",
      "The probability of matching exactly 3 out from 6 is 1.7650 %\n",
      "Or 1 chance from 57 \n",
      "\n",
      "The probability of matching exactly 4 out from 6 is 0.0969 %\n",
      "Or 1 chance from 1032 \n",
      "\n",
      "The probability of matching exactly 5 out from 6 is 0.0018 %\n",
      "Or 1 chance from 54201 \n",
      "\n"
     ]
    }
   ],
   "source": [
    "def probability_exactly_less_6(num):\n",
    "    num_comb_int = combinations(6,num)\n",
    "    num_comb_out = combinations(43, 6-num)\n",
    "    tot_successful_combinations = num_comb_int * num_comb_out\n",
    "    \n",
    "    tot_combinations = combinations(49,6)\n",
    "    \n",
    "    p_win = tot_successful_combinations / tot_combinations\n",
    "    p_win_percentage = p_win * 100\n",
    "    \n",
    "    num_comb_simplified = round(tot_combinations / tot_successful_combinations)\n",
    "    print('''The probability of matching exactly {} out from 6 is {:.4f} %\n",
    "Or 1 chance from {} \\n'''.format(num,\n",
    "                                         p_win_percentage,\n",
    "                                         num_comb_simplified\n",
    "                                        )\n",
    "        )\n",
    "\n",
    "for i in range (2,6):\n",
    "    probability_exactly_less_6(i)"
   ]
  },
  {
   "cell_type": "markdown",
   "metadata": {},
   "source": [
    "## 3.2 Probability of having *at least* five (or four, or three, or two) winning numbers on a single ticket\n",
    "\n",
    "*At least* 4 numbers = *exactly* 4 numbers or *exactly* 5 numbers or *exactly* 6 numbers"
   ]
  },
  {
   "cell_type": "code",
   "execution_count": 10,
   "metadata": {
    "scrolled": false
   },
   "outputs": [
    {
     "name": "stdout",
     "output_type": "stream",
     "text": [
      "The probability of matching at least 2 out from 6 is 15.1016 %\n",
      "Or 1 chance from 7 \n",
      "\n",
      "The probability of matching at least 3 out from 6 is 1.8638 %\n",
      "Or 1 chance from 54 \n",
      "\n",
      "The probability of matching at least 4 out from 6 is 0.0987 %\n",
      "Or 1 chance from 1013 \n",
      "\n",
      "The probability of matching at least 5 out from 6 is 0.0019 %\n",
      "Or 1 chance from 53992 \n",
      "\n"
     ]
    }
   ],
   "source": [
    "def probability_at_least_less_6(num):\n",
    "    \n",
    "    tot_successful_combinations = 0\n",
    "    for n in range(num,7):\n",
    "        num_comb_int = combinations(6,n)\n",
    "        num_comb_out = combinations(43, 6-n)\n",
    "        tot_successful_combinations += num_comb_int * num_comb_out\n",
    "\n",
    "    tot_combinations = combinations(49,6)\n",
    "    \n",
    "    p_win = tot_successful_combinations / tot_combinations\n",
    "    p_win_percentage = p_win * 100\n",
    "    num_comb_simplified = round(tot_combinations / tot_successful_combinations)\n",
    "    print('''The probability of matching at least {} out from 6 is {:.4f} %\n",
    "Or 1 chance from {} \\n'''.format(num,\n",
    "                                         p_win_percentage,\n",
    "                                         num_comb_simplified\n",
    "                                        )\n",
    "         )\n",
    "\n",
    "for i in range (2,6):\n",
    "    probability_at_least_less_6(i)"
   ]
  }
 ],
 "metadata": {
  "kernelspec": {
   "display_name": "Python 3 (ipykernel)",
   "language": "python",
   "name": "python3"
  },
  "language_info": {
   "codemirror_mode": {
    "name": "ipython",
    "version": 3
   },
   "file_extension": ".py",
   "mimetype": "text/x-python",
   "name": "python",
   "nbconvert_exporter": "python",
   "pygments_lexer": "ipython3",
   "version": "3.9.7"
  }
 },
 "nbformat": 4,
 "nbformat_minor": 2
}
